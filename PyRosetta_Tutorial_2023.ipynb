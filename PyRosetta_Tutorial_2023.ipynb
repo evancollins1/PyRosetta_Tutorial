{
  "nbformat": 4,
  "nbformat_minor": 0,
  "metadata": {
    "colab": {
      "provenance": []
    },
    "kernelspec": {
      "name": "python3",
      "display_name": "Python 3"
    },
    "language_info": {
      "name": "python"
    }
  },
  "cells": [
    {
      "cell_type": "markdown",
      "source": [
        "# **20.420 PyRosetta Tutorial**"
      ],
      "metadata": {
        "id": "N-lhiBf4Ro1d"
      }
    },
    {
      "cell_type": "markdown",
      "source": [
        "This tutorial notebook is being provided in Homework 1 to introduce you to PyRosetta. Before completing question 3 in your homework, please read and run each chunk of this Colab.\n",
        "\n",
        "By the end of this tutorial, you'll realize that question 3 in homework 1 only scratches the surface of what PyRosetta can do. We'll dive deeper into PyRosetta in future lectures and homework, so this tutorial will be useful later on too."
      ],
      "metadata": {
        "id": "Ewb6eqmajgFd"
      }
    },
    {
      "cell_type": "markdown",
      "source": [
        "#**0. Before You Start:**"
      ],
      "metadata": {
        "id": "2mv4NB6XAjp_"
      }
    },
    {
      "cell_type": "markdown",
      "source": [
        "1. File -> Save a copy in Drive\n",
        "2. Rename the file to \"LastName_FirstName_PyRosetta_Tutorial.ipynb\" (replacing with your name)\n",
        "3. Make sure you are running Python 3 by clicking \"Runtime\" -> \"Change runtime type\" -> \"Python 3\"\n",
        "  *   If no option for Python 3 comes up, you are probably running it correctly.\n",
        "  *   Hover over the Ram and Disk bar graphs in the top right corner next to \"Editing\" and you should see:\n",
        "  \n",
        "    \"Connected to Python 3...\"\n",
        "\n",
        "  *   If there are no Ram and Disk bar graphs in the top right corner next to \"Editing\", click the \"Connect\" button that is there instead. Then repeat the previous \"Hover...\" step.\n",
        "\n",
        "\n",
        "\n",
        "**Tip:**\n",
        "\n",
        "1) When you use this template for the Protein Design Project, I recommend copying your completed \"LastName_FirstName_PyRosetta_Tutorial.ipynb\" file and saving the original as a reference in case something goes wrong with the new one.\n",
        "\n",
        "2) This workshop works best in Google Chrome. If you notice issues with downloading objects generated from the notebook, try switching to Google Chrome if you aren't already.\n",
        "\n",
        "\n",
        "**Now you can start the Tutorial!**\n",
        "\n",
        "\n",
        "---\n",
        "\n"
      ],
      "metadata": {
        "id": "G2IqFmjiArIG"
      }
    },
    {
      "cell_type": "markdown",
      "source": [
        "# **1. Set Up PyRosetta:**\n",
        "\n",
        "Here, you will:\n",
        "*   **Mount** the Drive to Colaboratory\n",
        "*   **Download** the PyRosetta zip file\n",
        "*   **Unzip** PyRosetta\n",
        "*   **Install** PyRosetta\n"
      ],
      "metadata": {
        "id": "cf2hSkSLBBFX"
      }
    },
    {
      "cell_type": "markdown",
      "source": [
        "####**1.1. Mount Google Drive**\n",
        "  Run Code Block #1.1.\n",
        "\n",
        "  ***First time through***: Mount Google drive to avoid having to re-download the PyRosetta package. Mount before you download PyRosetta. Note: The PyRosetta installation should now do this automatically for you, so you don't need to worry about this!\n",
        "\n",
        "  ***Later uses of the notebook***: In the event you disconnect from Colab after the first download, running Code Block #1.2 should be much faster, as PyRosetta should already be installed in your Google Drive.\n"
      ],
      "metadata": {
        "id": "TuWC9R_cBWgH"
      }
    },
    {
      "cell_type": "code",
      "source": [
        "# Code Block #1.1: Mount your Drive\n",
        "\n",
        "from google.colab import drive\n",
        "from google.colab import files\n",
        "import os\n",
        "print(os.getcwd())\n",
        "drive.mount('/content/google_drive')"
      ],
      "metadata": {
        "colab": {
          "base_uri": "https://localhost:8080/"
        },
        "id": "yfLot1ZKk_r3",
        "outputId": "98c45f39-0015-4518-810a-bd23aed8b0aa"
      },
      "execution_count": 2,
      "outputs": [
        {
          "output_type": "stream",
          "name": "stdout",
          "text": [
            "/content\n",
            "Mounted at /content/google_drive\n"
          ]
        }
      ]
    },
    {
      "cell_type": "markdown",
      "source": [
        "####**1.2.  Download, Install, and Import PyRosetta for use in Colab**\n",
        "\n",
        "Run Code Block #1.2. to install and import PyRosetta. It will ask you to copy and paste a code to authorize. You will need to type your PyRosetta license information.\n",
        "\n",
        "\n",
        "> The RC license login: levinthal\n",
        ">\n",
        "> The RC license password: paradox\n",
        "\n",
        "\n",
        "\n",
        " Note: It will take ~10 mins to run, but you only need to do this once.\n",
        "\n",
        "\n",
        "  \\***You only have to do this once!**\\* Skip this step after you've downloaded it once and mounted to the Google Drive.\n"
      ],
      "metadata": {
        "id": "5WOdv4udBi6L"
      }
    },
    {
      "cell_type": "markdown",
      "source": [
        " The output for a successfully downloaded file will contain text roughly like this:\n",
        "    \n",
        "    PyRosetta-4 2022 [Rosetta PyRosetta4.MinSizeRel.python37.ubuntu 2022.34+release.9ec33c9fe00427e5b1b0393e84cd8062c07f104c 2022-08-24T09:49:27] retrieved from: http://www.pyrosetta.org\n",
        "(C) Copyright Rosetta Commons Member Institutions. Created in JHU by Sergey Lyskov and PyRosetta Team.\n",
        "core.init: Checking for fconfig files in pwd and ./rosetta/flags\n",
        "core.init: Rosetta version: PyRosetta4.MinSizeRel.python37.ubuntu r328 2022.34+release.9ec33c9fe00 9ec33c9fe00427e5b1b0393e84cd8062c07f104c http://www.pyrosetta.org 2022-08-24T09:49:27\n",
        "core.init: command: PyRosetta -ex1 -ex2aro -database /usr/local/lib/python3.7/dist-packages/pyrosetta/database\n",
        "basic.random.init_random_generator: 'RNG device' seed mode, using '/dev/urandom', seed=-582725582 seed_offset=0 real_seed=-582725582\n",
        "basic.random.init_random_generator: RandomGenerator:init: Normal mode, seed=-582725582 RG_type=mt19937"
      ],
      "metadata": {
        "id": "hAuVXDt7D-Qb"
      }
    },
    {
      "cell_type": "code",
      "execution_count": 3,
      "metadata": {
        "id": "acFo6NJ4iFDN",
        "colab": {
          "base_uri": "https://localhost:8080/"
        },
        "outputId": "e9e3e3ed-4e9d-44ab-d1ae-63a192bf67b3"
      },
      "outputs": [
        {
          "output_type": "stream",
          "name": "stdout",
          "text": [
            "Collecting pyrosettacolabsetup\n",
            "  Downloading pyrosettacolabsetup-1.0.6-py3-none-any.whl (4.7 kB)\n",
            "Installing collected packages: pyrosettacolabsetup\n",
            "Successfully installed pyrosettacolabsetup-1.0.6\n",
            "Drive already mounted at /content/google_drive; to attempt to forcibly remount, call drive.mount(\"/content/google_drive\", force_remount=True).\n",
            "Looking for compatible PyRosetta wheel file at google-drive/PyRosetta/colab.bin/wheels...\n",
            "To obtain PyRosetta license please visit https://www.rosettacommons.org/software/license-and-download\n",
            "Please enter you RC license login:levinthal\n",
            "Please enter you RC license password:paradox\n",
            "Downloading PyRosetta package...\n",
            "\n",
            "Resolving west.rosettacommons.org (west.rosettacommons.org)... 128.95.160.153\n",
            "\n",
            "HTTP request sent, awaiting response... 401 Unauthorized\n",
            "Authentication selected: Basic realm=\"Rosetta Repo\"\n",
            "\n",
            "HTTP request sent, awaiting response... 302 Found\n",
            "Location: https://west.rosettacommons.org/pyrosetta/release/release/PyRosetta4.MinSizeRel.python310.ubuntu.wheel/pyrosetta-2023.33+release.9c16e13c3cc-cp310-cp310-linux_x86_64.whl [following]\n",
            "--2023-08-29 18:36:49--  https://west.rosettacommons.org/pyrosetta/release/release/PyRosetta4.MinSizeRel.python310.ubuntu.wheel/pyrosetta-2023.33+release.9c16e13c3cc-cp310-cp310-linux_x86_64.whl\n",
            "\n",
            "HTTP request sent, awaiting response... 200 OK\n",
            "Length: 1609381425 (1.5G)\n",
            "--2023-08-29 18:36:49--  https://west.rosettacommons.org/pyrosetta/release/release/PyRosetta4.MinSizeRel.python310.ubuntu.wheel/pyrosetta-2023.33+release.9c16e13c3cc-cp310-cp310-linux_x86_64.whl\n",
            "Reusing existing connection to west.rosettacommons.org:443.\n",
            "HTTP request sent, awaiting response... 200 OK\n",
            "Length: 1609381425 (1.5G)\n",
            "Saving to: ‘/content/google_drive/MyDrive/PyRosetta/colab.bin/tmp_ifxbcj3/pyrosetta-2023.33+release.9c16e13c3cc-cp310-cp310-linux_x86_64.whl’\n",
            "\n",
            "pyrosetta-2023.33+r 100%[===================>]   1.50G  32.4MB/s    in 52s     \n",
            "\n",
            "2023-08-29 18:37:41 (29.6 MB/s) - ‘/content/google_drive/MyDrive/PyRosetta/colab.bin/tmp_ifxbcj3/pyrosetta-2023.33+release.9c16e13c3cc-cp310-cp310-linux_x86_64.whl’ saved [1609381425/1609381425]\n",
            "Moving wheel file pyrosetta-2023.33+release.9c16e13c3cc-cp310-cp310-linux_x86_64.whl to target dir /content/google_drive/MyDrive/PyRosetta/colab.bin/wheels...\n",
            "Installing PyRosetta wheel '/content/google_drive/MyDrive/PyRosetta/colab.bin/wheels/pyrosetta-2023.33+release.9c16e13c3cc-cp310-cp310-linux_x86_64.whl'...\n",
            "\n",
            "\n",
            "PyRosetta-4 2023 [Rosetta PyRosetta4.MinSizeRel.python310.ubuntu 2023.33+release.9c16e13c3cc4d3ef76e5869e0a5b44da70cff686 2023-08-18T11:32:04] retrieved from: http://www.pyrosetta.org\n",
            "(C) Copyright Rosetta Commons Member Institutions. Created in JHU by Sergey Lyskov and PyRosetta Team.\n",
            "core.init: Checking for fconfig files in pwd and ./rosetta/flags\n",
            "core.init: Rosetta version: PyRosetta4.MinSizeRel.python310.ubuntu r355 2023.33+release.9c16e13c3cc 9c16e13c3cc4d3ef76e5869e0a5b44da70cff686 http://www.pyrosetta.org 2023-08-18T11:32:04\n",
            "core.init: command: PyRosetta -ex1 -ex2aro -database /usr/local/lib/python3.10/dist-packages/pyrosetta/database\n",
            "basic.random.init_random_generator: 'RNG device' seed mode, using '/dev/urandom', seed=-699168369 seed_offset=0 real_seed=-699168369\n",
            "basic.random.init_random_generator: RandomGenerator:init: Normal mode, seed=-699168369 RG_type=mt19937\n"
          ]
        }
      ],
      "source": [
        "# Code Block #1.2: Download, Install, and Setup PyRosetta\n",
        "\n",
        "!pip install pyrosettacolabsetup\n",
        "import pyrosettacolabsetup; pyrosettacolabsetup.install_pyrosetta()\n",
        "import pyrosetta; pyrosetta.init()"
      ]
    },
    {
      "cell_type": "markdown",
      "source": [
        "Now that you've completed the installation, you can use PyRosetta in any Colab notebook by running the following lines of code:"
      ],
      "metadata": {
        "id": "UKfGBACRifsy"
      }
    },
    {
      "cell_type": "code",
      "source": [
        "!pip install pyrosettacolabsetup\n",
        "import pyrosettacolabsetup; pyrosettacolabsetup.install_pyrosetta()\n",
        "import pyrosetta; pyrosetta.init()"
      ],
      "metadata": {
        "id": "bdZeWX_6ii0o",
        "colab": {
          "base_uri": "https://localhost:8080/"
        },
        "outputId": "140525c6-45b0-4e05-b80d-fffbcefdc4c9"
      },
      "execution_count": 4,
      "outputs": [
        {
          "output_type": "stream",
          "name": "stdout",
          "text": [
            "Requirement already satisfied: pyrosettacolabsetup in /usr/local/lib/python3.10/dist-packages (1.0.6)\n",
            "PyRosetta-4 2023 [Rosetta PyRosetta4.MinSizeRel.python310.ubuntu 2023.33+release.9c16e13c3cc4d3ef76e5869e0a5b44da70cff686 2023-08-18T11:32:04] retrieved from: http://www.pyrosetta.org\n",
            "(C) Copyright Rosetta Commons Member Institutions. Created in JHU by Sergey Lyskov and PyRosetta Team.\n",
            "core.init: Checking for fconfig files in pwd and ./rosetta/flags\n",
            "core.init: Rosetta version: PyRosetta4.MinSizeRel.python310.ubuntu r355 2023.33+release.9c16e13c3cc 9c16e13c3cc4d3ef76e5869e0a5b44da70cff686 http://www.pyrosetta.org 2023-08-18T11:32:04\n",
            "core.init: command: PyRosetta -ex1 -ex2aro -database /usr/local/lib/python3.10/dist-packages/pyrosetta/database\n",
            "basic.random.init_random_generator: 'RNG device' seed mode, using '/dev/urandom', seed=1454553547 seed_offset=0 real_seed=1454553547\n",
            "basic.random.init_random_generator: RandomGenerator:init: Normal mode, seed=1454553547 RG_type=mt19937\n"
          ]
        }
      ]
    },
    {
      "cell_type": "markdown",
      "source": [
        "# **2. PyRosetta Workshop:**\n",
        "\n",
        "Here, you'll learn how to:\n",
        "\n",
        "*   **Load** a ligand into PyRosetta\n",
        "*   **Visualize** the actions of PyRosetta\n",
        "*   **Repack** residues\n",
        "*   **Mutate** residues\n",
        "*   **Create** your own schemes to mutate residues"
      ],
      "metadata": {
        "id": "lRgtHEJwijE8"
      }
    },
    {
      "cell_type": "markdown",
      "source": [
        "####**2.1. Restart the runtime**\n",
        "\n",
        "  Find \"Runtime\" menu underneath the notebook title, next to \"Tools\"\n",
        "\n",
        "  Select \"Runtime -> Restart runtime\".\n",
        "\n",
        "  Make sure the runtime is set to Python 3.\n",
        "\n",
        "  Check using \"Runtime -> Check runtime type\".\n",
        "\n",
        "  (There is no Code Block #2.1.)"
      ],
      "metadata": {
        "id": "7oi_llOEGbz2"
      }
    },
    {
      "cell_type": "markdown",
      "source": [
        "####**2.2a: Navigate to Google Drive folders**\n",
        "\n",
        "  Run Code Block #2.2a\n",
        "\n",
        "   \n",
        "  This changes your working directory to your main Google Drive folder. Feel free to modify the path in order to navigate to other directories in your Drive in future uses of this notebook."
      ],
      "metadata": {
        "id": "0AMzCCV2jM7E"
      }
    },
    {
      "cell_type": "code",
      "source": [
        "# Code Block #2.2a - Navigate to Google Drive Directory\n",
        "\n",
        "import os\n",
        "os.chdir('google_drive/MyDrive/')"
      ],
      "metadata": {
        "id": "07GgfZXTGmVR"
      },
      "execution_count": 5,
      "outputs": []
    },
    {
      "cell_type": "markdown",
      "source": [
        "####**2.2b.[ONLY ONCE] Clone the PyRosetta_Tutorial_2022 folder**\n",
        "\n",
        "  Run Code Block #2.2a and #2.2b.\n",
        "\n",
        "  Access Github to retrieve the tutorial folder.\n",
        "\n",
        "  This folder contains the files necessary to complete the tutorial (e.g., PDB files)\n",
        "\n",
        "  **You only have to do this once!**\n",
        "\n",
        "  **Ignore 2.2b step in future uses of PyRosetta beyond this tutorial.**"
      ],
      "metadata": {
        "id": "qx0qFNdCGj1s"
      }
    },
    {
      "cell_type": "code",
      "source": [
        "# Code Block #2.2b\n",
        "#downloads repository into Google Drive My Drive folder\n",
        "if not os.path.exists('PyRosetta_Tutorial'):\n",
        "  !git clone -b master https://github.com/evancollins1/PyRosetta_Tutorial\n",
        "print(os.getcwd())"
      ],
      "metadata": {
        "colab": {
          "base_uri": "https://localhost:8080/"
        },
        "id": "bsl7djjHhzZ0",
        "outputId": "f3359d5f-cc8b-452d-e69f-b3d8209e14d9"
      },
      "execution_count": 6,
      "outputs": [
        {
          "output_type": "stream",
          "name": "stdout",
          "text": [
            "Cloning into 'PyRosetta_Tutorial'...\n",
            "remote: Enumerating objects: 50, done.\u001b[K\n",
            "remote: Counting objects: 100% (50/50), done.\u001b[K\n",
            "remote: Compressing objects: 100% (33/33), done.\u001b[K\n",
            "remote: Total 50 (delta 15), reused 50 (delta 15), pack-reused 0\u001b[K\n",
            "Receiving objects: 100% (50/50), 142.99 KiB | 3.97 MiB/s, done.\n",
            "Resolving deltas: 100% (15/15), done.\n",
            "/content/google_drive/MyDrive\n"
          ]
        }
      ]
    },
    {
      "cell_type": "code",
      "source": [
        "# Code Block #2.2c - DO NOT RUN THIS CODE BLOCK AS PART OF TUTORIAL\n",
        "\n",
        "# For the purposes of the tutorial, you don't necessarilt need to navigate to your Google Drive\n",
        "# folders in order to complete/run everything. On the other hand, you will need to\n",
        "# access your Drive folders to easily save/access your outputs and store uploads as you run PyRosetta\n",
        "# for this assignment, as well as the protein design project. Here is generally how you\n",
        "# may do this:\n",
        "\n",
        "import os\n",
        "# To check your current directory:\n",
        "os.getcwd()\n",
        "\n",
        "# To list all files in current directory:\n",
        "os.listdir()\n",
        "\n",
        "# To change the directory to the parent directory (one level above)\n",
        "##os.chdir('..')\n",
        "\n",
        "# To change to another directory/subdirectory\n",
        "##os.chdir('<insert_directory_name/optional_subdirectories_etc/')\n",
        "\n",
        "# To go from '/content/ folder to your main Google Drive folder\n",
        "# NOTE: Google Drive must be mounted for this to work\n",
        "\n",
        "##os.chdir('google_drive/MyDrive/')"
      ],
      "metadata": {
        "id": "BkHN2Mc_qZQi"
      },
      "execution_count": null,
      "outputs": []
    },
    {
      "cell_type": "markdown",
      "source": [
        "####**2.3. Load PyRosetta**"
      ],
      "metadata": {
        "id": "gsGZrL-fGzpG"
      }
    },
    {
      "cell_type": "code",
      "source": [
        "# Code Block #2.3a\n",
        "\n",
        "from pyrosetta import *\n",
        "from google.colab import files\n",
        "init()\n",
        "print(os.getcwd())\n",
        "print('Done!')"
      ],
      "metadata": {
        "id": "_jMFxHJzG0P5",
        "colab": {
          "base_uri": "https://localhost:8080/"
        },
        "outputId": "c50d5842-406c-43a2-a0fd-8537f57c494c"
      },
      "execution_count": 8,
      "outputs": [
        {
          "output_type": "stream",
          "name": "stdout",
          "text": [
            "PyRosetta-4 2023 [Rosetta PyRosetta4.MinSizeRel.python310.ubuntu 2023.33+release.9c16e13c3cc4d3ef76e5869e0a5b44da70cff686 2023-08-18T11:32:04] retrieved from: http://www.pyrosetta.org\n",
            "(C) Copyright Rosetta Commons Member Institutions. Created in JHU by Sergey Lyskov and PyRosetta Team.\n",
            "core.init: Checking for fconfig files in pwd and ./rosetta/flags\n",
            "core.init: Rosetta version: PyRosetta4.MinSizeRel.python310.ubuntu r355 2023.33+release.9c16e13c3cc 9c16e13c3cc4d3ef76e5869e0a5b44da70cff686 http://www.pyrosetta.org 2023-08-18T11:32:04\n",
            "core.init: command: PyRosetta -ex1 -ex2aro -database /usr/local/lib/python3.10/dist-packages/pyrosetta/database\n",
            "basic.random.init_random_generator: 'RNG device' seed mode, using '/dev/urandom', seed=1998420996 seed_offset=0 real_seed=1998420996\n",
            "basic.random.init_random_generator: RandomGenerator:init: Normal mode, seed=1998420996 RG_type=mt19937\n",
            "/content/google_drive/MyDrive\n",
            "Done!\n"
          ]
        }
      ]
    },
    {
      "cell_type": "code",
      "source": [
        "# Code Block #2.3b -  #only run to navigate to tutorial repository (if not already there)\n",
        "os.chdir('PyRosetta_Tutorial')\n",
        "print(os.getcwd())"
      ],
      "metadata": {
        "colab": {
          "base_uri": "https://localhost:8080/"
        },
        "id": "X7jOrh_EhLd2",
        "outputId": "03645632-b515-448c-a03c-2f467fd35f6c"
      },
      "execution_count": 9,
      "outputs": [
        {
          "output_type": "stream",
          "name": "stdout",
          "text": [
            "/content/google_drive/MyDrive/PyRosetta_Tutorial\n"
          ]
        }
      ]
    },
    {
      "cell_type": "markdown",
      "source": [
        "####**2.4. Alter a Protein with Pyrosetta**\n",
        "\n",
        "  PyRosetta should be all set up now! **Every time you lose connection and restart a session in Colab, you will have to repeat steps, 1.1, 1.3, 1.4, 2.1, 2.2a, and 2.3a** (and 2.2b and 2.3b if you want to use the .pdb and .mdl files from the \"Pyrosetta_Tutorial_20420\" folder). In your project colab files, you could make your own code block with\n",
        "\n",
        "  Follow the steps below and edit them to your satisfaction to make your own protein mutants!"
      ],
      "metadata": {
        "id": "brE4fyJuG3QX"
      }
    },
    {
      "cell_type": "markdown",
      "source": [
        "<h3> Now let's load a receptor-ligand pair </h3>\n"
      ],
      "metadata": {
        "id": "mo1cuqKqG637"
      }
    },
    {
      "cell_type": "code",
      "source": [
        "# Code Block #2.4.1\n",
        "\n",
        "pose = pose_from_pdb('2AVX_pyrrolysine.pdb')\n"
      ],
      "metadata": {
        "id": "eGSuakHDG5qA",
        "colab": {
          "base_uri": "https://localhost:8080/",
          "height": 984
        },
        "outputId": "eea94419-6890-451a-9fae-272f9ba21469"
      },
      "execution_count": 10,
      "outputs": [
        {
          "output_type": "stream",
          "name": "stdout",
          "text": [
            "core.chemical.GlobalResidueTypeSet: Finished initializing fa_standard residue type set.  Created 985 residue types\n",
            "core.chemical.GlobalResidueTypeSet: Total time to initialize 0.992003 seconds.\n",
            "core.import_pose.import_pose: File '2AVX_pyrrolysine.pdb' automatically determined to be of type PDB\n",
            "core.chemical.GlobalResidueTypeSet: Loading (but possibly not actually using) 'LG1' from the PDB components dictionary for residue type 'pdb_LG1'\n",
            "core.io.pose_from_sfr.PoseFromSFRBuilder: [ WARNING ] discarding 3 atoms at position 1 in file 2AVX_pyrrolysine.pdb. Best match rsd_type:  MET:NtermProteinFull\n",
            "core.io.pose_from_sfr.PoseFromSFRBuilder: [ WARNING ] discarding 36 atoms at position 172 in file 2AVX_pyrrolysine.pdb. Best match rsd_type:  pdb_LG1\n",
            "core.conformation.Conformation: [ WARNING ] missing heavyatom: C05 on residue pdb_LG1 172\n",
            "core.conformation.Conformation: [ WARNING ] missing heavyatom: C06 on residue pdb_LG1 172\n",
            "core.conformation.Conformation: [ WARNING ] missing heavyatom: C01 on residue pdb_LG1 172\n",
            "core.conformation.Conformation: [ WARNING ] missing heavyatom: N14 on residue pdb_LG1 172\n",
            "core.conformation.Conformation: [ WARNING ] missing heavyatom: C13 on residue pdb_LG1 172\n",
            "core.conformation.Conformation: [ WARNING ] missing heavyatom: C18 on residue pdb_LG1 172\n",
            "core.conformation.Conformation: [ WARNING ] missing heavyatom: C17 on residue pdb_LG1 172\n",
            "core.conformation.Conformation: [ WARNING ] missing heavyatom: C16 on residue pdb_LG1 172\n",
            "core.conformation.Conformation: [ WARNING ] missing heavyatom: C15 on residue pdb_LG1 172\n",
            "core.conformation.Conformation: [ WARNING ] missing heavyatom: C19 on residue pdb_LG1 172\n",
            "core.conformation.Conformation: [ WARNING ] missing heavyatom: C20 on residue pdb_LG1 172\n",
            "core.conformation.Conformation: [ WARNING ] missing heavyatom: C21 on residue pdb_LG1 172\n",
            "core.conformation.Conformation: [ WARNING ] missing heavyatom: F30 on residue pdb_LG1 172\n",
            "core.conformation.Conformation: [ WARNING ] missing heavyatom: C22 on residue pdb_LG1 172\n",
            "core.conformation.Conformation: [ WARNING ] missing heavyatom: C23 on residue pdb_LG1 172\n",
            "core.conformation.Conformation: [ WARNING ] missing heavyatom: C24 on residue pdb_LG1 172\n",
            "core.conformation.Conformation: [ WARNING ] missing heavyatom: NP5 on residue pdb_LG1 172\n",
            "core.conformation.Conformation: [ WARNING ] missing heavyatom: C02 on residue pdb_LG1 172\n",
            "core.conformation.Conformation: [ WARNING ] missing heavyatom: C03 on residue pdb_LG1 172\n",
            "core.conformation.Conformation: [ WARNING ] missing heavyatom: C04 on residue pdb_LG1 172\n",
            "core.conformation.Conformation: [ WARNING ] missing heavyatom: F08 on residue pdb_LG1 172\n",
            "core.conformation.Conformation: [ WARNING ] missing heavyatom: C34 on residue pdb_LG1 172\n",
            "core.conformation.Conformation: [ WARNING ] missing heavyatom: C27 on residue pdb_LG1 172\n",
            "core.conformation.Conformation: [ WARNING ] missing heavyatom: C33 on residue pdb_LG1 172\n"
          ]
        },
        {
          "output_type": "error",
          "ename": "RuntimeError",
          "evalue": "ignored",
          "traceback": [
            "\u001b[0;31m---------------------------------------------------------------------------\u001b[0m",
            "\u001b[0;31mRuntimeError\u001b[0m                              Traceback (most recent call last)",
            "\u001b[0;32m<ipython-input-10-eff82a9f8e6a>\u001b[0m in \u001b[0;36m<cell line: 3>\u001b[0;34m()\u001b[0m\n\u001b[1;32m      1\u001b[0m \u001b[0;31m# Code Block #2.4.1\u001b[0m\u001b[0;34m\u001b[0m\u001b[0;34m\u001b[0m\u001b[0m\n\u001b[1;32m      2\u001b[0m \u001b[0;34m\u001b[0m\u001b[0m\n\u001b[0;32m----> 3\u001b[0;31m \u001b[0mpose\u001b[0m \u001b[0;34m=\u001b[0m \u001b[0mpose_from_pdb\u001b[0m\u001b[0;34m(\u001b[0m\u001b[0;34m'2AVX_pyrrolysine.pdb'\u001b[0m\u001b[0;34m)\u001b[0m\u001b[0;34m\u001b[0m\u001b[0;34m\u001b[0m\u001b[0m\n\u001b[0m",
            "\u001b[0;32m/usr/local/lib/python3.10/dist-packages/pyrosetta/io/__init__.py\u001b[0m in \u001b[0;36mpose_from_pdb\u001b[0;34m(filename)\u001b[0m\n\u001b[1;32m     18\u001b[0m \u001b[0;31m# because otherwise, it wrecks a lot of people's scripts.  ~Labonte\u001b[0m\u001b[0;34m\u001b[0m\u001b[0;34m\u001b[0m\u001b[0m\n\u001b[1;32m     19\u001b[0m \u001b[0;32mdef\u001b[0m \u001b[0mpose_from_pdb\u001b[0m\u001b[0;34m(\u001b[0m\u001b[0mfilename\u001b[0m\u001b[0;34m)\u001b[0m\u001b[0;34m:\u001b[0m\u001b[0;34m\u001b[0m\u001b[0;34m\u001b[0m\u001b[0m\n\u001b[0;32m---> 20\u001b[0;31m     \u001b[0;32mreturn\u001b[0m \u001b[0mpose_from_file\u001b[0m\u001b[0;34m(\u001b[0m\u001b[0mfilename\u001b[0m\u001b[0;34m)\u001b[0m\u001b[0;34m\u001b[0m\u001b[0;34m\u001b[0m\u001b[0m\n\u001b[0m\u001b[1;32m     21\u001b[0m \u001b[0;34m\u001b[0m\u001b[0m\n\u001b[1;32m     22\u001b[0m \u001b[0;34m\u001b[0m\u001b[0m\n",
            "\u001b[0;31mRuntimeError\u001b[0m: \n\nFile: /home/benchmark/rosetta/source/src/core/conformation/Conformation.cc:1933\n[ ERROR ] UtilityExitException\nERROR: too many tries in fill_missing_atoms!\n\n"
          ]
        }
      ]
    },
    {
      "cell_type": "markdown",
      "source": [
        "<h3>That error is wildly uninformative.</h3>\n",
        "<p> Turns out my ligand (Pyrrolysine) has nonstandard atoms (not CA, NH, etc). Let's make Rosetta cool with that by giving it parameters for these non-standard residues </p>"
      ],
      "metadata": {
        "id": "c48KZ-bHHIUw"
      }
    },
    {
      "cell_type": "code",
      "source": [
        "# Code Block #2.4.2\n",
        "\n",
        "# First, use Open Babel to convert your ligand pdb file into an mdl file\n",
        "\n",
        "files.download('pyrrolysine.pdb')\n",
        "\n",
        "# Install openbabel on your own computer from https://openbabel.org/docs/dev/Installation/install.html.\n",
        "# Run in the command line from your Downloads folder:\n",
        "# obabel pyrrolysine.pdb -Opyrrolysine.mdl\n"
      ],
      "metadata": {
        "id": "ay8dVM9pnq2s",
        "colab": {
          "base_uri": "https://localhost:8080/",
          "height": 17
        },
        "outputId": "cf3ba9cf-3664-4038-8e5c-13920363b0dc"
      },
      "execution_count": 11,
      "outputs": [
        {
          "output_type": "display_data",
          "data": {
            "text/plain": [
              "<IPython.core.display.Javascript object>"
            ],
            "application/javascript": [
              "\n",
              "    async function download(id, filename, size) {\n",
              "      if (!google.colab.kernel.accessAllowed) {\n",
              "        return;\n",
              "      }\n",
              "      const div = document.createElement('div');\n",
              "      const label = document.createElement('label');\n",
              "      label.textContent = `Downloading \"${filename}\": `;\n",
              "      div.appendChild(label);\n",
              "      const progress = document.createElement('progress');\n",
              "      progress.max = size;\n",
              "      div.appendChild(progress);\n",
              "      document.body.appendChild(div);\n",
              "\n",
              "      const buffers = [];\n",
              "      let downloaded = 0;\n",
              "\n",
              "      const channel = await google.colab.kernel.comms.open(id);\n",
              "      // Send a message to notify the kernel that we're ready.\n",
              "      channel.send({})\n",
              "\n",
              "      for await (const message of channel.messages) {\n",
              "        // Send a message to notify the kernel that we're ready.\n",
              "        channel.send({})\n",
              "        if (message.buffers) {\n",
              "          for (const buffer of message.buffers) {\n",
              "            buffers.push(buffer);\n",
              "            downloaded += buffer.byteLength;\n",
              "            progress.value = downloaded;\n",
              "          }\n",
              "        }\n",
              "      }\n",
              "      const blob = new Blob(buffers, {type: 'application/binary'});\n",
              "      const a = document.createElement('a');\n",
              "      a.href = window.URL.createObjectURL(blob);\n",
              "      a.download = filename;\n",
              "      div.appendChild(a);\n",
              "      a.click();\n",
              "      div.remove();\n",
              "    }\n",
              "  "
            ]
          },
          "metadata": {}
        },
        {
          "output_type": "display_data",
          "data": {
            "text/plain": [
              "<IPython.core.display.Javascript object>"
            ],
            "application/javascript": [
              "download(\"download_2af56ca2-079e-4f41-8dd9-2579fea12b5d\", \"pyrrolysine.pdb\", 4113)"
            ]
          },
          "metadata": {}
        }
      ]
    },
    {
      "cell_type": "code",
      "source": [
        "#get params file\n",
        "!molfile2params/molfile_to_params_python3.py psilocybin.mdl --clobber\n",
        "\n",
        "# Code Block #2.4.3\n",
        "\n",
        "# Upload your .mdl file (pyrrolysine.mdl found in repository)\n",
        "files.upload() # a version already exists within repository, so you may replace it or use the existing one\n",
        "\n",
        "# Let's convert the mdl file to a parameter file that Rosetta is cool with\n",
        "# Output will be LG.params, your parameters file, and LG_001.pdb, a pdb file you probably won't use.\n",
        "\n",
        "!chmod 755 -R molfile2params/molfile_to_params_python3.py"
      ],
      "metadata": {
        "id": "byfzeN-lHbpf",
        "colab": {
          "base_uri": "https://localhost:8080/",
          "height": 92
        },
        "outputId": "1d354ec0-24a7-45fe-b237-093cf939d9f3"
      },
      "execution_count": 12,
      "outputs": [
        {
          "output_type": "stream",
          "name": "stdout",
          "text": [
            "/bin/bash: molfile2params/molfile_to_params_python3.py: /usr/bin/env: bad interpreter: Permission denied\n"
          ]
        },
        {
          "output_type": "display_data",
          "data": {
            "text/plain": [
              "<IPython.core.display.HTML object>"
            ],
            "text/html": [
              "\n",
              "     <input type=\"file\" id=\"files-6a3f5b86-5f5b-4263-9b94-f852be76acc1\" name=\"files[]\" multiple disabled\n",
              "        style=\"border:none\" />\n",
              "     <output id=\"result-6a3f5b86-5f5b-4263-9b94-f852be76acc1\">\n",
              "      Upload widget is only available when the cell has been executed in the\n",
              "      current browser session. Please rerun this cell to enable.\n",
              "      </output>\n",
              "      <script>// Copyright 2017 Google LLC\n",
              "//\n",
              "// Licensed under the Apache License, Version 2.0 (the \"License\");\n",
              "// you may not use this file except in compliance with the License.\n",
              "// You may obtain a copy of the License at\n",
              "//\n",
              "//      http://www.apache.org/licenses/LICENSE-2.0\n",
              "//\n",
              "// Unless required by applicable law or agreed to in writing, software\n",
              "// distributed under the License is distributed on an \"AS IS\" BASIS,\n",
              "// WITHOUT WARRANTIES OR CONDITIONS OF ANY KIND, either express or implied.\n",
              "// See the License for the specific language governing permissions and\n",
              "// limitations under the License.\n",
              "\n",
              "/**\n",
              " * @fileoverview Helpers for google.colab Python module.\n",
              " */\n",
              "(function(scope) {\n",
              "function span(text, styleAttributes = {}) {\n",
              "  const element = document.createElement('span');\n",
              "  element.textContent = text;\n",
              "  for (const key of Object.keys(styleAttributes)) {\n",
              "    element.style[key] = styleAttributes[key];\n",
              "  }\n",
              "  return element;\n",
              "}\n",
              "\n",
              "// Max number of bytes which will be uploaded at a time.\n",
              "const MAX_PAYLOAD_SIZE = 100 * 1024;\n",
              "\n",
              "function _uploadFiles(inputId, outputId) {\n",
              "  const steps = uploadFilesStep(inputId, outputId);\n",
              "  const outputElement = document.getElementById(outputId);\n",
              "  // Cache steps on the outputElement to make it available for the next call\n",
              "  // to uploadFilesContinue from Python.\n",
              "  outputElement.steps = steps;\n",
              "\n",
              "  return _uploadFilesContinue(outputId);\n",
              "}\n",
              "\n",
              "// This is roughly an async generator (not supported in the browser yet),\n",
              "// where there are multiple asynchronous steps and the Python side is going\n",
              "// to poll for completion of each step.\n",
              "// This uses a Promise to block the python side on completion of each step,\n",
              "// then passes the result of the previous step as the input to the next step.\n",
              "function _uploadFilesContinue(outputId) {\n",
              "  const outputElement = document.getElementById(outputId);\n",
              "  const steps = outputElement.steps;\n",
              "\n",
              "  const next = steps.next(outputElement.lastPromiseValue);\n",
              "  return Promise.resolve(next.value.promise).then((value) => {\n",
              "    // Cache the last promise value to make it available to the next\n",
              "    // step of the generator.\n",
              "    outputElement.lastPromiseValue = value;\n",
              "    return next.value.response;\n",
              "  });\n",
              "}\n",
              "\n",
              "/**\n",
              " * Generator function which is called between each async step of the upload\n",
              " * process.\n",
              " * @param {string} inputId Element ID of the input file picker element.\n",
              " * @param {string} outputId Element ID of the output display.\n",
              " * @return {!Iterable<!Object>} Iterable of next steps.\n",
              " */\n",
              "function* uploadFilesStep(inputId, outputId) {\n",
              "  const inputElement = document.getElementById(inputId);\n",
              "  inputElement.disabled = false;\n",
              "\n",
              "  const outputElement = document.getElementById(outputId);\n",
              "  outputElement.innerHTML = '';\n",
              "\n",
              "  const pickedPromise = new Promise((resolve) => {\n",
              "    inputElement.addEventListener('change', (e) => {\n",
              "      resolve(e.target.files);\n",
              "    });\n",
              "  });\n",
              "\n",
              "  const cancel = document.createElement('button');\n",
              "  inputElement.parentElement.appendChild(cancel);\n",
              "  cancel.textContent = 'Cancel upload';\n",
              "  const cancelPromise = new Promise((resolve) => {\n",
              "    cancel.onclick = () => {\n",
              "      resolve(null);\n",
              "    };\n",
              "  });\n",
              "\n",
              "  // Wait for the user to pick the files.\n",
              "  const files = yield {\n",
              "    promise: Promise.race([pickedPromise, cancelPromise]),\n",
              "    response: {\n",
              "      action: 'starting',\n",
              "    }\n",
              "  };\n",
              "\n",
              "  cancel.remove();\n",
              "\n",
              "  // Disable the input element since further picks are not allowed.\n",
              "  inputElement.disabled = true;\n",
              "\n",
              "  if (!files) {\n",
              "    return {\n",
              "      response: {\n",
              "        action: 'complete',\n",
              "      }\n",
              "    };\n",
              "  }\n",
              "\n",
              "  for (const file of files) {\n",
              "    const li = document.createElement('li');\n",
              "    li.append(span(file.name, {fontWeight: 'bold'}));\n",
              "    li.append(span(\n",
              "        `(${file.type || 'n/a'}) - ${file.size} bytes, ` +\n",
              "        `last modified: ${\n",
              "            file.lastModifiedDate ? file.lastModifiedDate.toLocaleDateString() :\n",
              "                                    'n/a'} - `));\n",
              "    const percent = span('0% done');\n",
              "    li.appendChild(percent);\n",
              "\n",
              "    outputElement.appendChild(li);\n",
              "\n",
              "    const fileDataPromise = new Promise((resolve) => {\n",
              "      const reader = new FileReader();\n",
              "      reader.onload = (e) => {\n",
              "        resolve(e.target.result);\n",
              "      };\n",
              "      reader.readAsArrayBuffer(file);\n",
              "    });\n",
              "    // Wait for the data to be ready.\n",
              "    let fileData = yield {\n",
              "      promise: fileDataPromise,\n",
              "      response: {\n",
              "        action: 'continue',\n",
              "      }\n",
              "    };\n",
              "\n",
              "    // Use a chunked sending to avoid message size limits. See b/62115660.\n",
              "    let position = 0;\n",
              "    do {\n",
              "      const length = Math.min(fileData.byteLength - position, MAX_PAYLOAD_SIZE);\n",
              "      const chunk = new Uint8Array(fileData, position, length);\n",
              "      position += length;\n",
              "\n",
              "      const base64 = btoa(String.fromCharCode.apply(null, chunk));\n",
              "      yield {\n",
              "        response: {\n",
              "          action: 'append',\n",
              "          file: file.name,\n",
              "          data: base64,\n",
              "        },\n",
              "      };\n",
              "\n",
              "      let percentDone = fileData.byteLength === 0 ?\n",
              "          100 :\n",
              "          Math.round((position / fileData.byteLength) * 100);\n",
              "      percent.textContent = `${percentDone}% done`;\n",
              "\n",
              "    } while (position < fileData.byteLength);\n",
              "  }\n",
              "\n",
              "  // All done.\n",
              "  yield {\n",
              "    response: {\n",
              "      action: 'complete',\n",
              "    }\n",
              "  };\n",
              "}\n",
              "\n",
              "scope.google = scope.google || {};\n",
              "scope.google.colab = scope.google.colab || {};\n",
              "scope.google.colab._files = {\n",
              "  _uploadFiles,\n",
              "  _uploadFilesContinue,\n",
              "};\n",
              "})(self);\n",
              "</script> "
            ]
          },
          "metadata": {}
        },
        {
          "output_type": "stream",
          "name": "stdout",
          "text": [
            "Saving pyrrolysine.mdl to pyrrolysine (1).mdl\n"
          ]
        }
      ]
    },
    {
      "cell_type": "markdown",
      "source": [
        "<p> After running the next cell, you should be able to run any cell out of order in the rest of the presentation </p>"
      ],
      "metadata": {
        "id": "NhPWYFFnHpol"
      }
    },
    {
      "cell_type": "code",
      "source": [
        "# Code Block #2.4.4\n",
        "\n",
        "# Load up the parameters\n",
        "params_list = ['LG.params']\n",
        "pose = Pose()\n",
        "generate_nonstandard_residue_set(pose, params_list)\n",
        "\n",
        "# Import your ligand-receptor pdb file\n",
        "pose_from_file(pose,'2AVX_pyrrolysine.pdb')\n",
        "scorefxn = get_fa_scorefxn()"
      ],
      "metadata": {
        "id": "57eiB_XUHtAj",
        "colab": {
          "base_uri": "https://localhost:8080/"
        },
        "outputId": "62d6f8b8-8d49-4560-ddac-e169fb89fdac"
      },
      "execution_count": 13,
      "outputs": [
        {
          "output_type": "stream",
          "name": "stdout",
          "text": [
            "core.conformation.Conformation: [ WARNING ] Attempted to determine the residue type set of an empty pose.\n",
            "core.conformation.Conformation: [ WARNING ] Attempted to determine the residue type set of an empty pose.\n",
            "core.import_pose.import_pose: File '2AVX_pyrrolysine.pdb' automatically determined to be of type PDB\n",
            "core.io.pose_from_sfr.PoseFromSFRBuilder: [ WARNING ] discarding 3 atoms at position 1 in file 2AVX_pyrrolysine.pdb. Best match rsd_type:  MET:NtermProteinFull\n",
            "core.scoring.ScoreFunctionFactory: SCOREFUNCTION: ref2015\n",
            "core.scoring.etable: Starting energy table calculation\n",
            "core.scoring.etable: smooth_etable: changing atr/rep split to bottom of energy well\n",
            "core.scoring.etable: smooth_etable: spline smoothing lj etables (maxdis = 6)\n",
            "core.scoring.etable: smooth_etable: spline smoothing solvation etables (max_dis = 6)\n",
            "core.scoring.etable: Finished calculating energy tables.\n",
            "basic.io.database: Database file opened: scoring/score_functions/hbonds/ref2015_params/HBPoly1D.csv\n",
            "basic.io.database: Database file opened: scoring/score_functions/hbonds/ref2015_params/HBFadeIntervals.csv\n",
            "basic.io.database: Database file opened: scoring/score_functions/hbonds/ref2015_params/HBEval.csv\n",
            "basic.io.database: Database file opened: scoring/score_functions/hbonds/ref2015_params/DonStrength.csv\n",
            "basic.io.database: Database file opened: scoring/score_functions/hbonds/ref2015_params/AccStrength.csv\n",
            "basic.io.database: Database file opened: scoring/score_functions/rama/fd/all.ramaProb\n",
            "basic.io.database: Database file opened: scoring/score_functions/rama/fd/prepro.ramaProb\n",
            "basic.io.database: Database file opened: scoring/score_functions/omega/omega_ppdep.all.txt\n",
            "basic.io.database: Database file opened: scoring/score_functions/omega/omega_ppdep.gly.txt\n",
            "basic.io.database: Database file opened: scoring/score_functions/omega/omega_ppdep.pro.txt\n",
            "basic.io.database: Database file opened: scoring/score_functions/omega/omega_ppdep.valile.txt\n",
            "basic.io.database: Database file opened: scoring/score_functions/P_AA_pp/P_AA\n",
            "basic.io.database: Database file opened: scoring/score_functions/P_AA_pp/P_AA_n\n",
            "core.scoring.P_AA: shapovalov_lib::shap_p_aa_pp_smooth_level of 1( aka low_smooth ) got activated.\n",
            "basic.io.database: Database file opened: scoring/score_functions/P_AA_pp/shapovalov/10deg/kappa131/a20.prop\n"
          ]
        }
      ]
    },
    {
      "cell_type": "markdown",
      "source": [
        "<h3> Let's repack some sidechains without making mutations </h3>\n",
        "<p> First, we're using a MinMover to find a local energy minimum. The mover is constrained by a MoveMap, which specifies the acceptable backbone angles it can explore. We use PyRosetta's full atom score function as a proxy for free energy of a structure.You can do other things, like manually change backbone angles (phi/psi), and swap rotamers (see PyRosetta Workshop 5 & 6 for more).\n",
        "  \n",
        " <br>Then we'll use a protocol from the Baker lab, FastRelax, that's probably better than anything we would write ourselves to repack sidechains and adjust backbone angles. It does take several minutes, though.\n",
        "</p>\n",
        "<p> FastRelax is described here: http://dx.doi.org/10.1016/j.jmb.2010.11.008\n",
        "</p>"
      ],
      "metadata": {
        "id": "MCsOcjA6Htsu"
      }
    },
    {
      "cell_type": "code",
      "source": [
        "# Code Block #2.4.5\n",
        "\n",
        "min_mover = rosetta.protocols.minimization_packing.MinMover()\n",
        "move_map = MoveMap()\n",
        "move_map.set_bb_true_range(40,130)\n",
        "min_mover.movemap(move_map)\n",
        "min_mover.score_function(scorefxn)\n",
        "\n",
        "pose_min_move = Pose()\n",
        "pose_min_move.assign(pose)\n",
        "\n",
        "min_mover.apply(pose_min_move)\n",
        "\n",
        "print('Original Energy: %.2f' % scorefxn(pose))\n",
        "print('Energy after min_mover: %.2f' % scorefxn(pose_min_move))\n",
        "\n",
        "\n",
        "# More info about lots of movers and a GUI version of pyrosetta here:\n",
        "# http://dx.doi.org/10.1371/journal.pone.0066856"
      ],
      "metadata": {
        "id": "usTGWrB9HwWB",
        "colab": {
          "base_uri": "https://localhost:8080/"
        },
        "outputId": "0d856a65-ed8d-453f-8beb-c2185ac00f0a"
      },
      "execution_count": 14,
      "outputs": [
        {
          "output_type": "stream",
          "name": "stdout",
          "text": [
            "basic.io.database: Database file opened: scoring/score_functions/elec_cp_reps.dat\n",
            "core.scoring.elec.util: Read 40 countpair representative atoms\n",
            "core.pack.dunbrack.RotamerLibrary: shapovalov_lib_fixes_enable option is true.\n",
            "core.pack.dunbrack.RotamerLibrary: shapovalov_lib::shap_dun10_smooth_level of 1( aka lowest_smooth ) got activated.\n",
            "core.pack.dunbrack.RotamerLibrary: Binary rotamer library selected: /usr/local/lib/python3.10/dist-packages/pyrosetta/database/rotamer/shapovalov/StpDwn_0-0-0/Dunbrack10.lib.bin\n",
            "core.pack.dunbrack.RotamerLibrary: Using Dunbrack library binary file '/usr/local/lib/python3.10/dist-packages/pyrosetta/database/rotamer/shapovalov/StpDwn_0-0-0/Dunbrack10.lib.bin'.\n",
            "core.pack.dunbrack.RotamerLibrary: Dunbrack 2010 library took 0.446524 seconds to load from binary\n",
            "Original Energy: 444.33\n",
            "Energy after min_mover: 240.24\n"
          ]
        }
      ]
    },
    {
      "cell_type": "markdown",
      "source": [
        "<h3> Now let's check out FastRelax </h3>"
      ],
      "metadata": {
        "id": "u8hBKI_PH2In"
      }
    },
    {
      "cell_type": "code",
      "source": [
        "# Code Block #2.4.6\n",
        "\n",
        "fast_relax =rosetta.protocols.relax.FastRelax()\n",
        "fast_relax.set_scorefxn(scorefxn)\n",
        "\n",
        "pose_fast_relax = Pose()\n",
        "pose_fast_relax.assign(pose)\n",
        "fast_relax.apply(pose_fast_relax)\n",
        "\n",
        "print('Original Energy: %.2f' % scorefxn(pose))\n",
        "print('Energy after fast relax: %.2f' % scorefxn(pose_fast_relax))"
      ],
      "metadata": {
        "id": "lHir-P-7xWDV",
        "colab": {
          "base_uri": "https://localhost:8080/"
        },
        "outputId": "87491bfd-bcf0-4bd8-b125-d0e32e13d520"
      },
      "execution_count": 15,
      "outputs": [
        {
          "output_type": "stream",
          "name": "stdout",
          "text": [
            "protocols.relax.RelaxScriptManager: Reading relax scripts list from database.\n",
            "core.scoring.ScoreFunctionFactory: SCOREFUNCTION: ref2015\n",
            "protocols.relax.RelaxScriptManager: Looking for MonomerRelax2019.txt\n",
            "protocols.relax.RelaxScriptManager: ================== Reading script file: /usr/local/lib/python3.10/dist-packages/pyrosetta/database/sampling/relax_scripts/MonomerRelax2019.txt ==================\n",
            "protocols.relax.RelaxScriptManager: repeat %%nrepeats%%\n",
            "protocols.relax.RelaxScriptManager: coord_cst_weight 1.0\n",
            "protocols.relax.RelaxScriptManager: scale:fa_rep 0.040\n",
            "protocols.relax.RelaxScriptManager: repack\n",
            "protocols.relax.RelaxScriptManager: scale:fa_rep 0.051\n",
            "protocols.relax.RelaxScriptManager: min 0.01\n",
            "protocols.relax.RelaxScriptManager: coord_cst_weight 0.5\n",
            "protocols.relax.RelaxScriptManager: scale:fa_rep 0.265\n",
            "protocols.relax.RelaxScriptManager: repack\n",
            "protocols.relax.RelaxScriptManager: scale:fa_rep 0.280\n",
            "protocols.relax.RelaxScriptManager: min 0.01\n",
            "protocols.relax.RelaxScriptManager: coord_cst_weight 0.0\n",
            "protocols.relax.RelaxScriptManager: scale:fa_rep 0.559\n",
            "protocols.relax.RelaxScriptManager: repack\n",
            "protocols.relax.RelaxScriptManager: scale:fa_rep 0.581\n",
            "protocols.relax.RelaxScriptManager: min 0.01\n",
            "protocols.relax.RelaxScriptManager: coord_cst_weight 0.0\n",
            "protocols.relax.RelaxScriptManager: scale:fa_rep 1\n",
            "protocols.relax.RelaxScriptManager: repack\n",
            "protocols.relax.RelaxScriptManager: min 0.00001\n",
            "protocols.relax.RelaxScriptManager: accept_to_best\n",
            "protocols.relax.RelaxScriptManager: endrepeat\n",
            "protocols.relax.FastRelax: CMD: repeat  444.333  0  0  0.55\n",
            "protocols.relax.FastRelax: CMD: coord_cst_weight  444.333  0  0  0.55\n",
            "protocols.relax.FastRelax: CMD: scale:fa_rep  208.41  0  0  0.022\n",
            "core.pack.task: Packer task: initialize from command line()\n",
            "core.pack.rotamer_set.RotamerSet_: Using simple Rotamer generation logic for LG1\n",
            "core.pack.pack_rotamers: built 5076 rotamers at 172 positions.\n",
            "core.pack.interaction_graph.interaction_graph_factory: Instantiating DensePDInteractionGraph\n",
            "protocols.relax.FastRelax: CMD: repack  -278.451  0  0  0.022\n",
            "protocols.relax.FastRelax: CMD: scale:fa_rep  -264.471  0  0  0.02805\n",
            "protocols.relax.FastRelax: CMD: min  -619.201  1.60563  1.60563  0.02805\n",
            "protocols.relax.FastRelax: CMD: coord_cst_weight  -619.201  1.60563  1.60563  0.02805\n",
            "protocols.relax.FastRelax: CMD: scale:fa_rep  -272.796  1.60563  1.60563  0.14575\n",
            "core.pack.task: Packer task: initialize from command line()\n",
            "core.pack.rotamer_set.RotamerSet_: Using simple Rotamer generation logic for LG1\n",
            "core.pack.pack_rotamers: built 4937 rotamers at 172 positions.\n",
            "core.pack.interaction_graph.interaction_graph_factory: Instantiating DensePDInteractionGraph\n",
            "protocols.relax.FastRelax: CMD: repack  -297.785  1.60563  1.60563  0.14575\n",
            "protocols.relax.FastRelax: CMD: scale:fa_rep  -276.858  1.60563  1.60563  0.154\n",
            "protocols.relax.FastRelax: CMD: min  -482.408  1.64312  1.64312  0.154\n",
            "protocols.relax.FastRelax: CMD: coord_cst_weight  -482.408  1.64312  1.64312  0.154\n",
            "protocols.relax.FastRelax: CMD: scale:fa_rep  -383.649  1.64312  1.64312  0.30745\n",
            "core.pack.task: Packer task: initialize from command line()\n",
            "core.pack.rotamer_set.RotamerSet_: Using simple Rotamer generation logic for LG1\n",
            "core.pack.pack_rotamers: built 4694 rotamers at 172 positions.\n",
            "core.pack.interaction_graph.interaction_graph_factory: Instantiating DensePDInteractionGraph\n",
            "protocols.relax.FastRelax: CMD: repack  -379.457  1.64312  1.64312  0.30745\n",
            "protocols.relax.FastRelax: CMD: scale:fa_rep  -372.02  1.64312  1.64312  0.31955\n",
            "protocols.relax.FastRelax: CMD: min  -399.981  1.55148  1.55148  0.31955\n",
            "protocols.relax.FastRelax: CMD: coord_cst_weight  -399.981  1.55148  1.55148  0.31955\n",
            "protocols.relax.FastRelax: CMD: scale:fa_rep  -312.991  1.55148  1.55148  0.55\n",
            "core.pack.task: Packer task: initialize from command line()\n",
            "core.pack.rotamer_set.RotamerSet_: Using simple Rotamer generation logic for LG1\n",
            "core.pack.pack_rotamers: built 4480 rotamers at 172 positions.\n",
            "core.pack.interaction_graph.interaction_graph_factory: Instantiating DensePDInteractionGraph\n",
            "protocols.relax.FastRelax: CMD: repack  -313.166  1.55148  1.55148  0.55\n",
            "protocols.relax.FastRelax: CMD: min  -379.465  1.87642  1.87642  0.55\n",
            "protocols.relax.FastRelax: MRP: 0  -379.465  -379.465  1.87642  1.87642\n",
            "protocols.relax.FastRelax: CMD: accept_to_best  -379.465  1.87642  1.87642  0.55\n",
            "protocols.relax.FastRelax: CMD: endrepeat  -379.465  1.87642  1.87642  0.55\n",
            "protocols.relax.FastRelax: CMD: coord_cst_weight  -379.465  1.87642  1.87642  0.55\n",
            "protocols.relax.FastRelax: CMD: scale:fa_rep  -487.053  1.87642  1.87642  0.022\n",
            "core.pack.task: Packer task: initialize from command line()\n",
            "core.pack.rotamer_set.RotamerSet_: Using simple Rotamer generation logic for LG1\n",
            "core.pack.pack_rotamers: built 5178 rotamers at 172 positions.\n",
            "core.pack.interaction_graph.interaction_graph_factory: Instantiating DensePDInteractionGraph\n",
            "protocols.relax.FastRelax: CMD: repack  -516.781  1.87642  1.87642  0.022\n",
            "protocols.relax.FastRelax: CMD: scale:fa_rep  -509.907  1.87642  1.87642  0.02805\n",
            "protocols.relax.FastRelax: CMD: min  -679.816  2.67274  2.67274  0.02805\n",
            "protocols.relax.FastRelax: CMD: coord_cst_weight  -679.816  2.67274  2.67274  0.02805\n",
            "protocols.relax.FastRelax: CMD: scale:fa_rep  -327.6  2.67274  2.67274  0.14575\n",
            "core.pack.task: Packer task: initialize from command line()\n",
            "core.pack.rotamer_set.RotamerSet_: Using simple Rotamer generation logic for LG1\n",
            "core.pack.pack_rotamers: built 4756 rotamers at 172 positions.\n",
            "core.pack.interaction_graph.interaction_graph_factory: Instantiating DensePDInteractionGraph\n",
            "protocols.relax.FastRelax: CMD: repack  -342.401  2.67274  2.67274  0.14575\n",
            "protocols.relax.FastRelax: CMD: scale:fa_rep  -320.31  2.67274  2.67274  0.154\n",
            "protocols.relax.FastRelax: CMD: min  -533.12  2.3393  2.3393  0.154\n",
            "protocols.relax.FastRelax: CMD: coord_cst_weight  -533.12  2.3393  2.3393  0.154\n",
            "protocols.relax.FastRelax: CMD: scale:fa_rep  -436.319  2.3393  2.3393  0.30745\n",
            "core.pack.task: Packer task: initialize from command line()\n",
            "core.pack.rotamer_set.RotamerSet_: Using simple Rotamer generation logic for LG1\n",
            "core.pack.pack_rotamers: built 4423 rotamers at 172 positions.\n",
            "core.pack.interaction_graph.interaction_graph_factory: Instantiating DensePDInteractionGraph\n",
            "protocols.relax.FastRelax: CMD: repack  -437.3  2.3393  2.3393  0.30745\n",
            "protocols.relax.FastRelax: CMD: scale:fa_rep  -429.789  2.3393  2.3393  0.31955\n",
            "protocols.relax.FastRelax: CMD: min  -455.167  2.27761  2.27761  0.31955\n",
            "protocols.relax.FastRelax: CMD: coord_cst_weight  -455.167  2.27761  2.27761  0.31955\n",
            "protocols.relax.FastRelax: CMD: scale:fa_rep  -367.253  2.27761  2.27761  0.55\n",
            "core.pack.task: Packer task: initialize from command line()\n",
            "core.pack.rotamer_set.RotamerSet_: Using simple Rotamer generation logic for LG1\n",
            "core.pack.pack_rotamers: built 4305 rotamers at 172 positions.\n",
            "core.pack.interaction_graph.interaction_graph_factory: Instantiating DensePDInteractionGraph\n",
            "protocols.relax.FastRelax: CMD: repack  -367.478  2.27761  2.27761  0.55\n",
            "protocols.relax.FastRelax: CMD: min  -411.201  2.29311  2.29311  0.55\n",
            "protocols.relax.FastRelax: MRP: 1  -411.201  -411.201  2.29311  2.29311\n",
            "protocols.relax.FastRelax: CMD: accept_to_best  -411.201  2.29311  2.29311  0.55\n",
            "protocols.relax.FastRelax: CMD: endrepeat  -411.201  2.29311  2.29311  0.55\n",
            "protocols.relax.FastRelax: CMD: coord_cst_weight  -411.201  2.29311  2.29311  0.55\n",
            "protocols.relax.FastRelax: CMD: scale:fa_rep  -526.07  2.29311  2.29311  0.022\n",
            "core.pack.task: Packer task: initialize from command line()\n",
            "core.pack.rotamer_set.RotamerSet_: Using simple Rotamer generation logic for LG1\n",
            "core.pack.pack_rotamers: built 5006 rotamers at 172 positions.\n",
            "core.pack.interaction_graph.interaction_graph_factory: Instantiating DensePDInteractionGraph\n",
            "protocols.relax.FastRelax: CMD: repack  -543.851  2.29311  2.29311  0.022\n",
            "protocols.relax.FastRelax: CMD: scale:fa_rep  -540.058  2.29311  2.29311  0.02805\n",
            "protocols.relax.FastRelax: CMD: min  -698.568  2.55281  2.55281  0.02805\n",
            "protocols.relax.FastRelax: CMD: coord_cst_weight  -698.568  2.55281  2.55281  0.02805\n",
            "protocols.relax.FastRelax: CMD: scale:fa_rep  -356.744  2.55281  2.55281  0.14575\n",
            "core.pack.task: Packer task: initialize from command line()\n",
            "core.pack.rotamer_set.RotamerSet_: Using simple Rotamer generation logic for LG1\n",
            "core.pack.pack_rotamers: built 4714 rotamers at 172 positions.\n",
            "core.pack.interaction_graph.interaction_graph_factory: Instantiating DensePDInteractionGraph\n",
            "protocols.relax.FastRelax: CMD: repack  -373.742  2.55281  2.55281  0.14575\n",
            "protocols.relax.FastRelax: CMD: scale:fa_rep  -352.957  2.55281  2.55281  0.154\n",
            "protocols.relax.FastRelax: CMD: min  -540.755  2.55001  2.55001  0.154\n",
            "protocols.relax.FastRelax: CMD: coord_cst_weight  -540.755  2.55001  2.55001  0.154\n",
            "protocols.relax.FastRelax: CMD: scale:fa_rep  -443.812  2.55001  2.55001  0.30745\n",
            "core.pack.task: Packer task: initialize from command line()\n",
            "core.pack.rotamer_set.RotamerSet_: Using simple Rotamer generation logic for LG1\n",
            "core.pack.pack_rotamers: built 4356 rotamers at 172 positions.\n",
            "core.pack.interaction_graph.interaction_graph_factory: Instantiating DensePDInteractionGraph\n",
            "protocols.relax.FastRelax: CMD: repack  -444.892  2.55001  2.55001  0.30745\n",
            "protocols.relax.FastRelax: CMD: scale:fa_rep  -437.375  2.55001  2.55001  0.31955\n",
            "protocols.relax.FastRelax: CMD: min  -464.857  2.57907  2.57907  0.31955\n",
            "protocols.relax.FastRelax: CMD: coord_cst_weight  -464.857  2.57907  2.57907  0.31955\n",
            "protocols.relax.FastRelax: CMD: scale:fa_rep  -381.242  2.57907  2.57907  0.55\n",
            "core.pack.task: Packer task: initialize from command line()\n",
            "core.pack.rotamer_set.RotamerSet_: Using simple Rotamer generation logic for LG1\n",
            "core.pack.pack_rotamers: built 4273 rotamers at 172 positions.\n",
            "core.pack.interaction_graph.interaction_graph_factory: Instantiating DensePDInteractionGraph\n",
            "protocols.relax.FastRelax: CMD: repack  -381.082  2.57907  2.57907  0.55\n",
            "protocols.relax.FastRelax: CMD: min  -419.418  2.62436  2.62436  0.55\n",
            "protocols.relax.FastRelax: MRP: 2  -419.418  -419.418  2.62436  2.62436\n",
            "protocols.relax.FastRelax: CMD: accept_to_best  -419.418  2.62436  2.62436  0.55\n",
            "protocols.relax.FastRelax: CMD: endrepeat  -419.418  2.62436  2.62436  0.55\n",
            "protocols.relax.FastRelax: CMD: coord_cst_weight  -419.418  2.62436  2.62436  0.55\n",
            "protocols.relax.FastRelax: CMD: scale:fa_rep  -530.73  2.62436  2.62436  0.022\n",
            "core.pack.task: Packer task: initialize from command line()\n",
            "core.pack.rotamer_set.RotamerSet_: Using simple Rotamer generation logic for LG1\n",
            "core.pack.pack_rotamers: built 5051 rotamers at 172 positions.\n",
            "core.pack.interaction_graph.interaction_graph_factory: Instantiating DensePDInteractionGraph\n",
            "protocols.relax.FastRelax: CMD: repack  -552.642  2.62436  2.62436  0.022\n",
            "protocols.relax.FastRelax: CMD: scale:fa_rep  -548.897  2.62436  2.62436  0.02805\n",
            "protocols.relax.FastRelax: CMD: min  -700.872  2.57062  2.57062  0.02805\n",
            "protocols.relax.FastRelax: CMD: coord_cst_weight  -700.872  2.57062  2.57062  0.02805\n",
            "protocols.relax.FastRelax: CMD: scale:fa_rep  -362.668  2.57062  2.57062  0.14575\n",
            "core.pack.task: Packer task: initialize from command line()\n",
            "core.pack.rotamer_set.RotamerSet_: Using simple Rotamer generation logic for LG1\n",
            "core.pack.pack_rotamers: built 4713 rotamers at 172 positions.\n",
            "core.pack.interaction_graph.interaction_graph_factory: Instantiating DensePDInteractionGraph\n",
            "protocols.relax.FastRelax: CMD: repack  -388.585  2.57062  2.57062  0.14575\n",
            "protocols.relax.FastRelax: CMD: scale:fa_rep  -368.492  2.57062  2.57062  0.154\n",
            "protocols.relax.FastRelax: CMD: min  -551.341  2.26225  2.26225  0.154\n",
            "protocols.relax.FastRelax: CMD: coord_cst_weight  -551.341  2.26225  2.26225  0.154\n",
            "protocols.relax.FastRelax: CMD: scale:fa_rep  -452.61  2.26225  2.26225  0.30745\n",
            "core.pack.task: Packer task: initialize from command line()\n",
            "core.pack.rotamer_set.RotamerSet_: Using simple Rotamer generation logic for LG1\n",
            "core.pack.pack_rotamers: built 4375 rotamers at 172 positions.\n",
            "core.pack.interaction_graph.interaction_graph_factory: Instantiating DensePDInteractionGraph\n",
            "protocols.relax.FastRelax: CMD: repack  -453.48  2.26225  2.26225  0.30745\n",
            "protocols.relax.FastRelax: CMD: scale:fa_rep  -445.778  2.26225  2.26225  0.31955\n",
            "protocols.relax.FastRelax: CMD: min  -471.467  2.27065  2.27065  0.31955\n",
            "protocols.relax.FastRelax: CMD: coord_cst_weight  -471.467  2.27065  2.27065  0.31955\n",
            "protocols.relax.FastRelax: CMD: scale:fa_rep  -382.372  2.27065  2.27065  0.55\n",
            "core.pack.task: Packer task: initialize from command line()\n",
            "core.pack.rotamer_set.RotamerSet_: Using simple Rotamer generation logic for LG1\n",
            "core.pack.pack_rotamers: built 4280 rotamers at 172 positions.\n",
            "core.pack.interaction_graph.interaction_graph_factory: Instantiating DensePDInteractionGraph\n",
            "protocols.relax.FastRelax: CMD: repack  -382.509  2.27065  2.27065  0.55\n",
            "protocols.relax.FastRelax: CMD: min  -417.067  2.39854  2.39854  0.55\n",
            "protocols.relax.FastRelax: MRP: 3  -417.067  -419.418  2.62436  2.62436\n",
            "protocols.relax.FastRelax: CMD: accept_to_best  -417.067  2.39854  2.39854  0.55\n",
            "protocols.relax.FastRelax: CMD: endrepeat  -417.067  2.39854  2.39854  0.55\n",
            "protocols.relax.FastRelax: CMD: coord_cst_weight  -417.067  2.39854  2.39854  0.55\n",
            "protocols.relax.FastRelax: CMD: scale:fa_rep  -532.834  2.39854  2.39854  0.022\n",
            "core.pack.task: Packer task: initialize from command line()\n",
            "core.pack.rotamer_set.RotamerSet_: Using simple Rotamer generation logic for LG1\n",
            "core.pack.pack_rotamers: built 4826 rotamers at 172 positions.\n",
            "core.pack.interaction_graph.interaction_graph_factory: Instantiating DensePDInteractionGraph\n",
            "protocols.relax.FastRelax: CMD: repack  -551.708  2.39854  2.39854  0.022\n",
            "protocols.relax.FastRelax: CMD: scale:fa_rep  -548.373  2.39854  2.39854  0.02805\n",
            "protocols.relax.FastRelax: CMD: min  -706.822  2.51022  2.51022  0.02805\n",
            "protocols.relax.FastRelax: CMD: coord_cst_weight  -706.822  2.51022  2.51022  0.02805\n",
            "protocols.relax.FastRelax: CMD: scale:fa_rep  -360.809  2.51022  2.51022  0.14575\n",
            "core.pack.task: Packer task: initialize from command line()\n",
            "core.pack.rotamer_set.RotamerSet_: Using simple Rotamer generation logic for LG1\n",
            "core.pack.pack_rotamers: built 4803 rotamers at 172 positions.\n",
            "core.pack.interaction_graph.interaction_graph_factory: Instantiating DensePDInteractionGraph\n",
            "protocols.relax.FastRelax: CMD: repack  -380.158  2.51022  2.51022  0.14575\n",
            "protocols.relax.FastRelax: CMD: scale:fa_rep  -358.657  2.51022  2.51022  0.154\n",
            "protocols.relax.FastRelax: CMD: min  -551.408  2.26408  2.26408  0.154\n",
            "protocols.relax.FastRelax: CMD: coord_cst_weight  -551.408  2.26408  2.26408  0.154\n",
            "protocols.relax.FastRelax: CMD: scale:fa_rep  -453.998  2.26408  2.26408  0.30745\n",
            "core.pack.task: Packer task: initialize from command line()\n",
            "core.pack.rotamer_set.RotamerSet_: Using simple Rotamer generation logic for LG1\n",
            "core.pack.pack_rotamers: built 4409 rotamers at 172 positions.\n",
            "core.pack.interaction_graph.interaction_graph_factory: Instantiating DensePDInteractionGraph\n",
            "protocols.relax.FastRelax: CMD: repack  -454.738  2.26408  2.26408  0.30745\n",
            "protocols.relax.FastRelax: CMD: scale:fa_rep  -447.164  2.26408  2.26408  0.31955\n",
            "protocols.relax.FastRelax: CMD: min  -471.299  2.24024  2.24024  0.31955\n",
            "protocols.relax.FastRelax: CMD: coord_cst_weight  -471.299  2.24024  2.24024  0.31955\n",
            "protocols.relax.FastRelax: CMD: scale:fa_rep  -382.737  2.24024  2.24024  0.55\n",
            "core.pack.task: Packer task: initialize from command line()\n",
            "core.pack.rotamer_set.RotamerSet_: Using simple Rotamer generation logic for LG1\n",
            "core.pack.pack_rotamers: built 4217 rotamers at 172 positions.\n",
            "core.pack.interaction_graph.interaction_graph_factory: Instantiating DensePDInteractionGraph\n",
            "protocols.relax.FastRelax: CMD: repack  -383.32  2.24024  2.24024  0.55\n",
            "protocols.relax.FastRelax: CMD: min  -422.079  2.23451  2.23451  0.55\n",
            "protocols.relax.FastRelax: MRP: 4  -422.079  -422.079  2.23451  2.23451\n",
            "protocols.relax.FastRelax: CMD: accept_to_best  -422.079  2.23451  2.23451  0.55\n",
            "protocols.relax.FastRelax: CMD: endrepeat  -422.079  2.23451  2.23451  0.55\n",
            "protocols::checkpoint: Deleting checkpoints of FastRelax\n",
            "Original Energy: 444.33\n",
            "Energy after fast relax: -422.08\n"
          ]
        }
      ]
    },
    {
      "cell_type": "markdown",
      "source": [
        "<h3> Fast Relax dramatically decreases the energy </h3>\n",
        "<p> I'm not sure if this is true, but I think you could make almost any mutation, run FastRelax, and find a structure that is lower energy than your starting structure. So, you might want to start by running FastRelax to get a baseline for your protein. You could output the WT FastRelaxed protein and use it as your starting structure.\n",
        "</p>"
      ],
      "metadata": {
        "id": "0xb7GaMaH_Ee"
      }
    },
    {
      "cell_type": "markdown",
      "source": [
        "<h3> But we want to mutate residues, too! </h3>\n",
        "<p>\n",
        "For that, we'll use a Pack Mover. This uses simulated annealing and Metropolis/Monte Carlo to search for the best residue/rotamer.\n",
        "</p>"
      ],
      "metadata": {
        "id": "ft9rJDGlICNS"
      }
    },
    {
      "cell_type": "code",
      "source": [
        "# Code Block #2.4.7\n",
        "\n",
        "pose_pack_mover = Pose()\n",
        "pose_pack_mover.assign(pose)\n",
        "pose_pack_mover.pdb_info().name('pack_mover')\n",
        "\n",
        "task = standard_packer_task(pose_pack_mover)\n",
        "task.temporarily_fix_everything()\n",
        "task.temporarily_set_pack_residue(124, True)\n",
        "task.temporarily_set_pack_residue(123, True)\n",
        "\n",
        "pack_mover = rosetta.protocols.minimization_packing.PackRotamersMover(scorefxn, task)\n",
        "\n",
        "pack_mover.apply(pose_pack_mover)\n",
        "\n",
        "print('Original Score: %s' % scorefxn(pose))\n",
        "print('Score after mutating 124, 123: %s' % scorefxn(pose_pack_mover))"
      ],
      "metadata": {
        "id": "OWNwOj0tIEOd",
        "colab": {
          "base_uri": "https://localhost:8080/"
        },
        "outputId": "f55cda64-8710-4f5f-b7a8-9e1ae8cda3e6"
      },
      "execution_count": 16,
      "outputs": [
        {
          "output_type": "stream",
          "name": "stdout",
          "text": [
            "core.pack.task: Packer task: initialize from command line()\n",
            "core.pack.pack_rotamers: built 509 rotamers at 2 positions.\n",
            "core.pack.interaction_graph.interaction_graph_factory: Instantiating PDInteractionGraph\n",
            "Original Score: 444.3327918971997\n",
            "Score after mutating 124, 123: 437.60572883715906\n"
          ]
        }
      ]
    },
    {
      "cell_type": "markdown",
      "source": [
        "<h3> What if we want more control over the design? </h3>\n",
        "<p> Then we use \"resfiles.\" In these, you can define which atoms are allowed to be mutated, and what mutations are allowed. So, you can restrict a polar residue to other polar residues, if that's important (maybe you're modifying an enzyme and want it to still be functional)\n",
        " <br><br>\n",
        "The default value for all residues in new resfile is NATRO<br>\n",
        "<ul>\n",
        "<li> NATRO - NATive ROtamer (no mutation, no repacking)<br>\n",
        "<li> NATAA - NATive AminoAcid (no mutation, repacking )<br>\n",
        "<li> PIKAA STNQ - PIcK Amino Acids STNQ (mutation and repacking to defined residues-- these don't have to be STNQ)<br>\n",
        "<li> ALLAA - ALL Amino Acids (All amino acids, all repacking)<br>\n",
        "</p>\n"
      ],
      "metadata": {
        "id": "e5gDtPzrIE_J"
      }
    },
    {
      "cell_type": "code",
      "source": [
        "# Code Block #2.4.8\n",
        "\n",
        "save_resfile_filter = pyrosetta.rosetta.protocols.simple_filters.SaveResfileToDiskFilter()\n",
        "save_resfile_filter.resfile_name('my.resfile')\n",
        "all_resis = save_resfile_filter.selected_resis()\n",
        "for r in range(1, pose.total_residue() + 1):\n",
        "  all_resis.append(r)\n",
        "save_resfile_filter.selected_resis_property('NATRO')\n",
        "save_resfile_filter.write_resfile(pose, all_resis)\n",
        "!cat 'my.resfile'\n",
        "\n",
        "# We can also download the file to manually edit in a text editor.\n",
        "# files.download('my.resfile')"
      ],
      "metadata": {
        "id": "24-rBRCCIHNs",
        "colab": {
          "base_uri": "https://localhost:8080/"
        },
        "outputId": "7bd15e60-0895-466e-f9ac-36567aa417c9"
      },
      "execution_count": 17,
      "outputs": [
        {
          "output_type": "stream",
          "name": "stdout",
          "text": [
            "\n",
            "start\n",
            "1 \tA NATRO\n",
            "2 \tA NATRO\n",
            "3 \tA NATRO\n",
            "4 \tA NATRO\n",
            "5 \tA NATRO\n",
            "6 \tA NATRO\n",
            "7 \tA NATRO\n",
            "8 \tA NATRO\n",
            "9 \tA NATRO\n",
            "10 \tA NATRO\n",
            "11 \tA NATRO\n",
            "12 \tA NATRO\n",
            "13 \tA NATRO\n",
            "14 \tA NATRO\n",
            "15 \tA NATRO\n",
            "16 \tA NATRO\n",
            "17 \tA NATRO\n",
            "18 \tA NATRO\n",
            "19 \tA NATRO\n",
            "20 \tA NATRO\n",
            "21 \tA NATRO\n",
            "22 \tA NATRO\n",
            "23 \tA NATRO\n",
            "24 \tA NATRO\n",
            "25 \tA NATRO\n",
            "26 \tA NATRO\n",
            "27 \tA NATRO\n",
            "28 \tA NATRO\n",
            "29 \tA NATRO\n",
            "30 \tA NATRO\n",
            "31 \tA NATRO\n",
            "32 \tA NATRO\n",
            "33 \tA NATRO\n",
            "34 \tA NATRO\n",
            "35 \tA NATRO\n",
            "36 \tA NATRO\n",
            "37 \tA NATRO\n",
            "38 \tA NATRO\n",
            "39 \tA NATRO\n",
            "40 \tA NATRO\n",
            "41 \tA NATRO\n",
            "42 \tA NATRO\n",
            "43 \tA NATRO\n",
            "44 \tA NATRO\n",
            "45 \tA NATRO\n",
            "46 \tA NATRO\n",
            "47 \tA NATRO\n",
            "48 \tA NATRO\n",
            "49 \tA NATRO\n",
            "50 \tA NATRO\n",
            "51 \tA NATRO\n",
            "52 \tA NATRO\n",
            "53 \tA NATRO\n",
            "54 \tA NATRO\n",
            "55 \tA NATRO\n",
            "56 \tA NATRO\n",
            "57 \tA NATRO\n",
            "58 \tA NATRO\n",
            "59 \tA NATRO\n",
            "60 \tA NATRO\n",
            "61 \tA NATRO\n",
            "62 \tA NATRO\n",
            "63 \tA NATRO\n",
            "64 \tA NATRO\n",
            "65 \tA NATRO\n",
            "66 \tA NATRO\n",
            "67 \tA NATRO\n",
            "68 \tA NATRO\n",
            "69 \tA NATRO\n",
            "70 \tA NATRO\n",
            "71 \tA NATRO\n",
            "72 \tA NATRO\n",
            "73 \tA NATRO\n",
            "74 \tA NATRO\n",
            "75 \tA NATRO\n",
            "76 \tA NATRO\n",
            "77 \tA NATRO\n",
            "78 \tA NATRO\n",
            "79 \tA NATRO\n",
            "80 \tA NATRO\n",
            "81 \tA NATRO\n",
            "82 \tA NATRO\n",
            "83 \tA NATRO\n",
            "84 \tA NATRO\n",
            "85 \tA NATRO\n",
            "86 \tA NATRO\n",
            "87 \tA NATRO\n",
            "88 \tA NATRO\n",
            "89 \tA NATRO\n",
            "90 \tA NATRO\n",
            "91 \tA NATRO\n",
            "92 \tA NATRO\n",
            "93 \tA NATRO\n",
            "94 \tA NATRO\n",
            "95 \tA NATRO\n",
            "96 \tA NATRO\n",
            "97 \tA NATRO\n",
            "98 \tA NATRO\n",
            "99 \tA NATRO\n",
            "100 \tA NATRO\n",
            "101 \tA NATRO\n",
            "102 \tA NATRO\n",
            "103 \tA NATRO\n",
            "104 \tA NATRO\n",
            "105 \tA NATRO\n",
            "106 \tA NATRO\n",
            "107 \tA NATRO\n",
            "108 \tA NATRO\n",
            "109 \tA NATRO\n",
            "110 \tA NATRO\n",
            "111 \tA NATRO\n",
            "112 \tA NATRO\n",
            "113 \tA NATRO\n",
            "114 \tA NATRO\n",
            "115 \tA NATRO\n",
            "116 \tA NATRO\n",
            "117 \tA NATRO\n",
            "118 \tA NATRO\n",
            "119 \tA NATRO\n",
            "120 \tA NATRO\n",
            "121 \tA NATRO\n",
            "122 \tA NATRO\n",
            "123 \tA NATRO\n",
            "124 \tA NATRO\n",
            "125 \tA NATRO\n",
            "126 \tA NATRO\n",
            "127 \tA NATRO\n",
            "128 \tA NATRO\n",
            "129 \tA NATRO\n",
            "130 \tA NATRO\n",
            "131 \tA NATRO\n",
            "132 \tA NATRO\n",
            "133 \tA NATRO\n",
            "134 \tA NATRO\n",
            "135 \tA NATRO\n",
            "136 \tA NATRO\n",
            "137 \tA NATRO\n",
            "138 \tA NATRO\n",
            "139 \tA NATRO\n",
            "140 \tA NATRO\n",
            "141 \tA NATRO\n",
            "142 \tA NATRO\n",
            "143 \tA NATRO\n",
            "144 \tA NATRO\n",
            "145 \tA NATRO\n",
            "146 \tA NATRO\n",
            "147 \tA NATRO\n",
            "148 \tA NATRO\n",
            "149 \tA NATRO\n",
            "150 \tA NATRO\n",
            "151 \tA NATRO\n",
            "152 \tA NATRO\n",
            "153 \tA NATRO\n",
            "154 \tA NATRO\n",
            "155 \tA NATRO\n",
            "156 \tA NATRO\n",
            "157 \tA NATRO\n",
            "158 \tA NATRO\n",
            "159 \tA NATRO\n",
            "160 \tA NATRO\n",
            "161 \tA NATRO\n",
            "162 \tA NATRO\n",
            "163 \tA NATRO\n",
            "164 \tA NATRO\n",
            "165 \tA NATRO\n",
            "166 \tA NATRO\n",
            "167 \tA NATRO\n",
            "168 \tA NATRO\n",
            "169 \tA NATRO\n",
            "170 \tA NATRO\n",
            "171 \tA NATRO\n",
            "1 \tX NATRO\n"
          ]
        }
      ]
    },
    {
      "cell_type": "markdown",
      "source": [
        "<h4> Editing the resfile </h4>\n",
        "<p>\n",
        "Let's limit S89, S101, S123, S139, S147  to uncharged polar residues (STNQ)\n",
        "<br>\n",
        "\n",
        "</p>"
      ],
      "metadata": {
        "id": "DNq2cW_uIPpG"
      }
    },
    {
      "cell_type": "code",
      "source": [
        "# Code Block #2.4.9\n",
        "\n",
        "res_to_mutate = [89, 101, 123, 139, 147]\n",
        "chain = 'A'\n",
        "\n",
        "with open('my.resfile') as file:\n",
        "  with open('new.resfile','w+') as newfile:\n",
        "    for line in file:\n",
        "      try:\n",
        "        if int(line[:4].strip()) in res_to_mutate:\n",
        "          newline = list(line)\n",
        "          i = line.find(chain)\n",
        "          newline[i + 2:] = list('PIKAA STNQ\\n')\n",
        "          newfile.write(\"\".join(newline))\n",
        "        else:\n",
        "          newfile.write(line)\n",
        "      except ValueError:\n",
        "        newfile.write(line)\n",
        "\n",
        "!cat 'new.resfile'\n"
      ],
      "metadata": {
        "id": "ictyAHaWIX3K",
        "colab": {
          "base_uri": "https://localhost:8080/"
        },
        "outputId": "714e1c42-3f5d-4dac-b432-98073197d7fa"
      },
      "execution_count": 18,
      "outputs": [
        {
          "output_type": "stream",
          "name": "stdout",
          "text": [
            "\n",
            "start\n",
            "1 \tA NATRO\n",
            "2 \tA NATRO\n",
            "3 \tA NATRO\n",
            "4 \tA NATRO\n",
            "5 \tA NATRO\n",
            "6 \tA NATRO\n",
            "7 \tA NATRO\n",
            "8 \tA NATRO\n",
            "9 \tA NATRO\n",
            "10 \tA NATRO\n",
            "11 \tA NATRO\n",
            "12 \tA NATRO\n",
            "13 \tA NATRO\n",
            "14 \tA NATRO\n",
            "15 \tA NATRO\n",
            "16 \tA NATRO\n",
            "17 \tA NATRO\n",
            "18 \tA NATRO\n",
            "19 \tA NATRO\n",
            "20 \tA NATRO\n",
            "21 \tA NATRO\n",
            "22 \tA NATRO\n",
            "23 \tA NATRO\n",
            "24 \tA NATRO\n",
            "25 \tA NATRO\n",
            "26 \tA NATRO\n",
            "27 \tA NATRO\n",
            "28 \tA NATRO\n",
            "29 \tA NATRO\n",
            "30 \tA NATRO\n",
            "31 \tA NATRO\n",
            "32 \tA NATRO\n",
            "33 \tA NATRO\n",
            "34 \tA NATRO\n",
            "35 \tA NATRO\n",
            "36 \tA NATRO\n",
            "37 \tA NATRO\n",
            "38 \tA NATRO\n",
            "39 \tA NATRO\n",
            "40 \tA NATRO\n",
            "41 \tA NATRO\n",
            "42 \tA NATRO\n",
            "43 \tA NATRO\n",
            "44 \tA NATRO\n",
            "45 \tA NATRO\n",
            "46 \tA NATRO\n",
            "47 \tA NATRO\n",
            "48 \tA NATRO\n",
            "49 \tA NATRO\n",
            "50 \tA NATRO\n",
            "51 \tA NATRO\n",
            "52 \tA NATRO\n",
            "53 \tA NATRO\n",
            "54 \tA NATRO\n",
            "55 \tA NATRO\n",
            "56 \tA NATRO\n",
            "57 \tA NATRO\n",
            "58 \tA NATRO\n",
            "59 \tA NATRO\n",
            "60 \tA NATRO\n",
            "61 \tA NATRO\n",
            "62 \tA NATRO\n",
            "63 \tA NATRO\n",
            "64 \tA NATRO\n",
            "65 \tA NATRO\n",
            "66 \tA NATRO\n",
            "67 \tA NATRO\n",
            "68 \tA NATRO\n",
            "69 \tA NATRO\n",
            "70 \tA NATRO\n",
            "71 \tA NATRO\n",
            "72 \tA NATRO\n",
            "73 \tA NATRO\n",
            "74 \tA NATRO\n",
            "75 \tA NATRO\n",
            "76 \tA NATRO\n",
            "77 \tA NATRO\n",
            "78 \tA NATRO\n",
            "79 \tA NATRO\n",
            "80 \tA NATRO\n",
            "81 \tA NATRO\n",
            "82 \tA NATRO\n",
            "83 \tA NATRO\n",
            "84 \tA NATRO\n",
            "85 \tA NATRO\n",
            "86 \tA NATRO\n",
            "87 \tA NATRO\n",
            "88 \tA NATRO\n",
            "89 \tA PIKAA STNQ\n",
            "90 \tA NATRO\n",
            "91 \tA NATRO\n",
            "92 \tA NATRO\n",
            "93 \tA NATRO\n",
            "94 \tA NATRO\n",
            "95 \tA NATRO\n",
            "96 \tA NATRO\n",
            "97 \tA NATRO\n",
            "98 \tA NATRO\n",
            "99 \tA NATRO\n",
            "100 \tA NATRO\n",
            "101 \tA PIKAA STNQ\n",
            "102 \tA NATRO\n",
            "103 \tA NATRO\n",
            "104 \tA NATRO\n",
            "105 \tA NATRO\n",
            "106 \tA NATRO\n",
            "107 \tA NATRO\n",
            "108 \tA NATRO\n",
            "109 \tA NATRO\n",
            "110 \tA NATRO\n",
            "111 \tA NATRO\n",
            "112 \tA NATRO\n",
            "113 \tA NATRO\n",
            "114 \tA NATRO\n",
            "115 \tA NATRO\n",
            "116 \tA NATRO\n",
            "117 \tA NATRO\n",
            "118 \tA NATRO\n",
            "119 \tA NATRO\n",
            "120 \tA NATRO\n",
            "121 \tA NATRO\n",
            "122 \tA NATRO\n",
            "123 \tA PIKAA STNQ\n",
            "124 \tA NATRO\n",
            "125 \tA NATRO\n",
            "126 \tA NATRO\n",
            "127 \tA NATRO\n",
            "128 \tA NATRO\n",
            "129 \tA NATRO\n",
            "130 \tA NATRO\n",
            "131 \tA NATRO\n",
            "132 \tA NATRO\n",
            "133 \tA NATRO\n",
            "134 \tA NATRO\n",
            "135 \tA NATRO\n",
            "136 \tA NATRO\n",
            "137 \tA NATRO\n",
            "138 \tA NATRO\n",
            "139 \tA PIKAA STNQ\n",
            "140 \tA NATRO\n",
            "141 \tA NATRO\n",
            "142 \tA NATRO\n",
            "143 \tA NATRO\n",
            "144 \tA NATRO\n",
            "145 \tA NATRO\n",
            "146 \tA NATRO\n",
            "147 \tA PIKAA STNQ\n",
            "148 \tA NATRO\n",
            "149 \tA NATRO\n",
            "150 \tA NATRO\n",
            "151 \tA NATRO\n",
            "152 \tA NATRO\n",
            "153 \tA NATRO\n",
            "154 \tA NATRO\n",
            "155 \tA NATRO\n",
            "156 \tA NATRO\n",
            "157 \tA NATRO\n",
            "158 \tA NATRO\n",
            "159 \tA NATRO\n",
            "160 \tA NATRO\n",
            "161 \tA NATRO\n",
            "162 \tA NATRO\n",
            "163 \tA NATRO\n",
            "164 \tA NATRO\n",
            "165 \tA NATRO\n",
            "166 \tA NATRO\n",
            "167 \tA NATRO\n",
            "168 \tA NATRO\n",
            "169 \tA NATRO\n",
            "170 \tA NATRO\n",
            "171 \tA NATRO\n",
            "1 \tX NATRO\n"
          ]
        }
      ]
    },
    {
      "cell_type": "markdown",
      "source": [
        "<h3> Sequences </h3>\n",
        "<p>\n",
        "Let's string together multiple movers as we change those 5 residues.\n",
        "</p>"
      ],
      "metadata": {
        "id": "Yp0TCq3ZIYdK"
      }
    },
    {
      "cell_type": "code",
      "source": [
        "# Code Block #2.4.10\n",
        "\n",
        "pose_pack_mover = Pose()\n",
        "pose_pack_mover.assign(pose)\n",
        "pose_pack_mover.pdb_info().name('defined_pack_mover')\n",
        "\n",
        "kT = 1.0\n",
        "mc = MonteCarlo(pose_pack_mover, scorefxn, kT)\n",
        "\n",
        "for i in range(11):\n",
        "    task = rosetta.core.pack.task.TaskFactory.create_packer_task(pose_pack_mover)\n",
        "    rosetta.core.pack.task.parse_resfile(pose_pack_mover, task, 'new.resfile')\n",
        "    packer_task = rosetta.protocols.minimization_packing.PackRotamersMover(scorefxn, task)\n",
        "\n",
        "    min_mover = rosetta.protocols.minimization_packing.MinMover()\n",
        "    mm70150 = MoveMap()\n",
        "    mm70150.set_bb_true_range(70, 150)\n",
        "    min_mover.movemap(mm70150)\n",
        "    min_mover.score_function(scorefxn)\n",
        "\n",
        "    seq_mover = SequenceMover()\n",
        "    seq_mover.add_mover(packer_task)\n",
        "    seq_mover.add_mover(min_mover)\n",
        "\n",
        "    trial_pack_min_mover = TrialMover(seq_mover, mc)\n",
        "\n",
        "    trial_pack_min_mover.apply(pose_pack_mover)\n",
        "    print('Score: %s' % scorefxn(pose_pack_mover))\n",
        "\n",
        "# What residue is at position 123 now?\n",
        "print(pose_pack_mover.residue(123).name())"
      ],
      "metadata": {
        "id": "CKJ5fyZRIaif",
        "colab": {
          "base_uri": "https://localhost:8080/"
        },
        "outputId": "94e53a01-c122-4f10-ac66-0e71395fa3c8"
      },
      "execution_count": 19,
      "outputs": [
        {
          "output_type": "stream",
          "name": "stdout",
          "text": [
            "core.pack.pack_rotamers: built 418 rotamers at 5 positions.\n",
            "core.pack.interaction_graph.interaction_graph_factory: Instantiating PDInteractionGraph\n",
            "Score: 255.0965690359775\n",
            "core.pack.pack_rotamers: built 460 rotamers at 5 positions.\n",
            "core.pack.interaction_graph.interaction_graph_factory: Instantiating PDInteractionGraph\n",
            "Score: 253.61983640015646\n",
            "core.pack.pack_rotamers: built 460 rotamers at 5 positions.\n",
            "core.pack.interaction_graph.interaction_graph_factory: Instantiating PDInteractionGraph\n",
            "Score: 253.56506571408642\n",
            "core.pack.pack_rotamers: built 460 rotamers at 5 positions.\n",
            "core.pack.interaction_graph.interaction_graph_factory: Instantiating PDInteractionGraph\n",
            "Score: 253.5551057365584\n",
            "core.pack.pack_rotamers: built 460 rotamers at 5 positions.\n",
            "core.pack.interaction_graph.interaction_graph_factory: Instantiating PDInteractionGraph\n",
            "Score: 253.55327173246374\n",
            "core.pack.pack_rotamers: built 460 rotamers at 5 positions.\n",
            "core.pack.interaction_graph.interaction_graph_factory: Instantiating PDInteractionGraph\n",
            "Score: 253.54977321493388\n",
            "core.pack.pack_rotamers: built 460 rotamers at 5 positions.\n",
            "core.pack.interaction_graph.interaction_graph_factory: Instantiating PDInteractionGraph\n",
            "Score: 253.5475037994011\n",
            "core.pack.pack_rotamers: built 460 rotamers at 5 positions.\n",
            "core.pack.interaction_graph.interaction_graph_factory: Instantiating PDInteractionGraph\n",
            "Score: 253.54587102574993\n",
            "core.pack.pack_rotamers: built 460 rotamers at 5 positions.\n",
            "core.pack.interaction_graph.interaction_graph_factory: Instantiating PDInteractionGraph\n",
            "Score: 253.5435940597167\n",
            "core.pack.pack_rotamers: built 460 rotamers at 5 positions.\n",
            "core.pack.interaction_graph.interaction_graph_factory: Instantiating PDInteractionGraph\n",
            "Score: 253.5414494959257\n",
            "core.pack.pack_rotamers: built 460 rotamers at 5 positions.\n",
            "core.pack.interaction_graph.interaction_graph_factory: Instantiating PDInteractionGraph\n",
            "Score: 253.53970760745517\n",
            "SER\n"
          ]
        }
      ]
    },
    {
      "cell_type": "markdown",
      "source": [
        "<h4> RepeatMover (may be buggy, for example with PackMover)</h4>\n",
        "<p> I'd just use a for loop instead, but here's an example using one </p>\n",
        "<h4> Finally, let's download a pdb file of our altered protein.</h4>\n",
        "<p>We can visualize our efforts by loading this file in PyMol. </p>"
      ],
      "metadata": {
        "id": "as1pl6etIcTw"
      }
    },
    {
      "cell_type": "code",
      "source": [
        "# Code Block #2.4.11\n",
        "\n",
        "# Repeat Mover Example\n",
        "\n",
        "pose_repeat_small_mover = Pose()\n",
        "pose_repeat_small_mover.assign(pose)\n",
        "pose_repeat_small_mover.pdb_info().name('repeat_small_mover')\n",
        "\n",
        "kT = 1.0\n",
        "movemap = MoveMap()\n",
        "movemap.set_bb(True)\n",
        "small_mover = rosetta.protocols.simple_moves.SmallMover(movemap, kT, 1)\n",
        "\n",
        "mc = MonteCarlo(pose_repeat_small_mover, scorefxn, kT)\n",
        "trial_mover = TrialMover(small_mover, mc)\n",
        "\n",
        "n = 20\n",
        "repeat_mover = RepeatMover(trial_mover, n)\n",
        "\n",
        "repeat_mover.apply(pose_repeat_small_mover)\n",
        "\n",
        "print('original: %s' % scorefxn(pose))\n",
        "print('new: %s' % scorefxn(pose_repeat_small_mover))\n",
        "\n",
        "# Downloading a PDB file\n",
        "\n",
        "pose_repeat_small_mover.dump_pdb('repeat_small_mover.pdb')\n",
        "files.download('repeat_small_mover.pdb')\n"
      ],
      "metadata": {
        "id": "KbY0UUpDIeKX",
        "colab": {
          "base_uri": "https://localhost:8080/",
          "height": 88
        },
        "outputId": "b1dd7dd2-7aba-4f76-c0cd-b7813989e3e7"
      },
      "execution_count": 20,
      "outputs": [
        {
          "output_type": "stream",
          "name": "stdout",
          "text": [
            "core.scoring.ramachandran: shapovalov_lib::shap_rama_smooth_level of 4( aka highest_smooth ) got activated.\n",
            "basic.io.database: Database file opened: scoring/score_functions/rama/shapovalov/kappa25/all.ramaProb\n",
            "original: 444.3327918971997\n",
            "new: 424.49449515713974\n"
          ]
        },
        {
          "output_type": "display_data",
          "data": {
            "text/plain": [
              "<IPython.core.display.Javascript object>"
            ],
            "application/javascript": [
              "\n",
              "    async function download(id, filename, size) {\n",
              "      if (!google.colab.kernel.accessAllowed) {\n",
              "        return;\n",
              "      }\n",
              "      const div = document.createElement('div');\n",
              "      const label = document.createElement('label');\n",
              "      label.textContent = `Downloading \"${filename}\": `;\n",
              "      div.appendChild(label);\n",
              "      const progress = document.createElement('progress');\n",
              "      progress.max = size;\n",
              "      div.appendChild(progress);\n",
              "      document.body.appendChild(div);\n",
              "\n",
              "      const buffers = [];\n",
              "      let downloaded = 0;\n",
              "\n",
              "      const channel = await google.colab.kernel.comms.open(id);\n",
              "      // Send a message to notify the kernel that we're ready.\n",
              "      channel.send({})\n",
              "\n",
              "      for await (const message of channel.messages) {\n",
              "        // Send a message to notify the kernel that we're ready.\n",
              "        channel.send({})\n",
              "        if (message.buffers) {\n",
              "          for (const buffer of message.buffers) {\n",
              "            buffers.push(buffer);\n",
              "            downloaded += buffer.byteLength;\n",
              "            progress.value = downloaded;\n",
              "          }\n",
              "        }\n",
              "      }\n",
              "      const blob = new Blob(buffers, {type: 'application/binary'});\n",
              "      const a = document.createElement('a');\n",
              "      a.href = window.URL.createObjectURL(blob);\n",
              "      a.download = filename;\n",
              "      div.appendChild(a);\n",
              "      a.click();\n",
              "      div.remove();\n",
              "    }\n",
              "  "
            ]
          },
          "metadata": {}
        },
        {
          "output_type": "display_data",
          "data": {
            "text/plain": [
              "<IPython.core.display.Javascript object>"
            ],
            "application/javascript": [
              "download(\"download_facc6478-ec00-4c94-adcd-cb198cd86be1\", \"repeat_small_mover.pdb\", 259444)"
            ]
          },
          "metadata": {}
        }
      ]
    },
    {
      "cell_type": "code",
      "source": [
        "# Additional Useful Methods\n",
        "\n",
        "# Getting the dihedral angles of the nth residue of a pose\n",
        "#pose.phi(n)\n",
        "#pose.psi(n)\n",
        "#pose.chi(n)"
      ],
      "metadata": {
        "id": "L5hXEtregwJL"
      },
      "execution_count": 21,
      "outputs": []
    },
    {
      "cell_type": "markdown",
      "source": [
        "# **3. Review**\n",
        "<p> Here's what you've done so far: </p>\n",
        "<ul>\n",
        "    <li> <b> Loaded a PDB file </b> into PyRosetta\n",
        "    <li> <b>Generated PyRosetta parameters </b>for a non-standard ligand, using Babel and mol2params.py\n",
        "    <li> <b>Repacked and refined Structures </b> using MinMover and FastRelax\n",
        "    <li> <b> Mutated residues </b> using a PackMover\n",
        "    <li> <b> Made your own routines </b> using Sequence and TrialMovers that accept movements based on a Metropolis criterion\n",
        "     <li> <b> Downloaded a PDB file </b> that can be visualized and shared\n",
        "</ul>"
      ],
      "metadata": {
        "id": "gNoAwWLFIjWt"
      }
    },
    {
      "cell_type": "markdown",
      "source": [
        "<h1> What you can look to improve? </h1>\n",
        "<ul>\n",
        "<li>Can the conformation of your ligand change?\n",
        "<li>What's a good routine for mutating residues? Why?\n",
        "<li>What's happening to secondary structure during these movements?\n",
        "<li>Hydrogen bonds?\n",
        "<li>How do you know when to stop mutating/changing?\n",
        "<li>What sort of pretty plots could you generate to show what's going on here? (both with PyMol and without)\n",
        "</ul>"
      ],
      "metadata": {
        "id": "zJDBw6YsInAF"
      }
    },
    {
      "cell_type": "markdown",
      "source": [
        "---\n",
        "Updated 29 August 2023 by Evan Collins\n",
        "\n",
        "Updated in 2022 by Remi Akindele\n",
        "\n",
        "Original version of workshop (by Patrick Holec) found here: https://github.com/PatrickHolec/Pyrosetta_Tutorial_20420\n",
        "\n",
        "Rosetta Commons PyRosetta Tutorial Guide: https://colab.research.google.com/github/RosettaCommons/PyRosetta.notebooks/blob/master/notebooks/toc.ipynb\n",
        "\n",
        "Github for this tutorial: https://github.com/remiakindele/PyRosetta_Tutorial_2022\n",
        "\n",
        "---"
      ],
      "metadata": {
        "id": "WCiS76mSkoVX"
      }
    }
  ]
}